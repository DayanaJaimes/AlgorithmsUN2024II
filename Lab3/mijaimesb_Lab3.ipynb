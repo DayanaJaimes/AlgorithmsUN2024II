{
  "cells": [
    {
      "cell_type": "markdown",
      "source": [
        "# **LAB 3 - mijaimesb**\n",
        "Algoritmos 2024-II UN"
      ],
      "metadata": {
        "id": "FLjVm0euzCCU"
      }
    },
    {
      "cell_type": "code",
      "execution_count": 2,
      "metadata": {
        "id": "im-VVd1__7VU",
        "colab": {
          "base_uri": "https://localhost:8080/"
        },
        "outputId": "c9ffe27e-ea80-44cc-9c26-24806a6a2209"
      },
      "outputs": [
        {
          "output_type": "stream",
          "name": "stdout",
          "text": [
            "processor\t: 0\n",
            "vendor_id\t: GenuineIntel\n",
            "cpu family\t: 6\n",
            "model\t\t: 79\n",
            "model name\t: Intel(R) Xeon(R) CPU @ 2.20GHz\n",
            "stepping\t: 0\n",
            "microcode\t: 0xffffffff\n",
            "cpu MHz\t\t: 2200.220\n",
            "cache size\t: 56320 KB\n",
            "physical id\t: 0\n",
            "siblings\t: 2\n",
            "core id\t\t: 0\n",
            "cpu cores\t: 1\n",
            "apicid\t\t: 0\n",
            "initial apicid\t: 0\n",
            "fpu\t\t: yes\n",
            "fpu_exception\t: yes\n",
            "cpuid level\t: 13\n",
            "wp\t\t: yes\n",
            "flags\t\t: fpu vme de pse tsc msr pae mce cx8 apic sep mtrr pge mca cmov pat pse36 clflush mmx fxsr sse sse2 ss ht syscall nx pdpe1gb rdtscp lm constant_tsc rep_good nopl xtopology nonstop_tsc cpuid tsc_known_freq pni pclmulqdq ssse3 fma cx16 pcid sse4_1 sse4_2 x2apic movbe popcnt aes xsave avx f16c rdrand hypervisor lahf_lm abm 3dnowprefetch invpcid_single ssbd ibrs ibpb stibp fsgsbase tsc_adjust bmi1 hle avx2 smep bmi2 erms invpcid rtm rdseed adx smap xsaveopt arat md_clear arch_capabilities\n",
            "bugs\t\t: cpu_meltdown spectre_v1 spectre_v2 spec_store_bypass l1tf mds swapgs taa mmio_stale_data retbleed bhi\n",
            "bogomips\t: 4400.44\n",
            "clflush size\t: 64\n",
            "cache_alignment\t: 64\n",
            "address sizes\t: 46 bits physical, 48 bits virtual\n",
            "power management:\n",
            "\n",
            "processor\t: 1\n",
            "vendor_id\t: GenuineIntel\n",
            "cpu family\t: 6\n",
            "model\t\t: 79\n",
            "model name\t: Intel(R) Xeon(R) CPU @ 2.20GHz\n",
            "stepping\t: 0\n",
            "microcode\t: 0xffffffff\n",
            "cpu MHz\t\t: 2200.220\n",
            "cache size\t: 56320 KB\n",
            "physical id\t: 0\n",
            "siblings\t: 2\n",
            "core id\t\t: 0\n",
            "cpu cores\t: 1\n",
            "apicid\t\t: 1\n",
            "initial apicid\t: 1\n",
            "fpu\t\t: yes\n",
            "fpu_exception\t: yes\n",
            "cpuid level\t: 13\n",
            "wp\t\t: yes\n",
            "flags\t\t: fpu vme de pse tsc msr pae mce cx8 apic sep mtrr pge mca cmov pat pse36 clflush mmx fxsr sse sse2 ss ht syscall nx pdpe1gb rdtscp lm constant_tsc rep_good nopl xtopology nonstop_tsc cpuid tsc_known_freq pni pclmulqdq ssse3 fma cx16 pcid sse4_1 sse4_2 x2apic movbe popcnt aes xsave avx f16c rdrand hypervisor lahf_lm abm 3dnowprefetch invpcid_single ssbd ibrs ibpb stibp fsgsbase tsc_adjust bmi1 hle avx2 smep bmi2 erms invpcid rtm rdseed adx smap xsaveopt arat md_clear arch_capabilities\n",
            "bugs\t\t: cpu_meltdown spectre_v1 spectre_v2 spec_store_bypass l1tf mds swapgs taa mmio_stale_data retbleed bhi\n",
            "bogomips\t: 4400.44\n",
            "clflush size\t: 64\n",
            "cache_alignment\t: 64\n",
            "address sizes\t: 46 bits physical, 48 bits virtual\n",
            "power management:\n",
            "\n"
          ]
        }
      ],
      "source": [
        "!cat /proc/cpuinfo"
      ]
    },
    {
      "cell_type": "markdown",
      "metadata": {
        "id": "N1ok_-56OjB1"
      },
      "source": [
        "# I Solving the Sum of Two Digits Programming Challenge"
      ]
    },
    {
      "cell_type": "markdown",
      "metadata": {
        "id": "MMY7kmDSO0KM"
      },
      "source": [
        "## C++"
      ]
    },
    {
      "cell_type": "code",
      "execution_count": 3,
      "metadata": {
        "colab": {
          "base_uri": "https://localhost:8080/"
        },
        "id": "2pGGf9BkPNIk",
        "outputId": "7ae08f7e-5a32-446a-a23f-fbf4c0e79b17"
      },
      "outputs": [
        {
          "output_type": "stream",
          "name": "stdout",
          "text": [
            "Writing APlusB.cpp\n"
          ]
        }
      ],
      "source": [
        "%%writefile APlusB.cpp\n",
        "#include <iostream>\n",
        "\n",
        "int sum_of_two_digits(int first_digit, int second_digit) {\n",
        "    return first_digit + second_digit;\n",
        "}\n",
        "\n",
        "int main() {\n",
        "    int a = 0;\n",
        "    int b = 0;\n",
        "    std::cin >> a;\n",
        "    std::cin >> b;\n",
        "    std::cout << sum_of_two_digits(a, b);\n",
        "    return 0;\n",
        "}"
      ]
    },
    {
      "cell_type": "code",
      "execution_count": 4,
      "metadata": {
        "colab": {
          "base_uri": "https://localhost:8080/"
        },
        "id": "0G3ZKOYAPXSU",
        "outputId": "7896cd80-8223-4176-ec62-9ceadefb5abb"
      },
      "outputs": [
        {
          "output_type": "stream",
          "name": "stdout",
          "text": [
            "4 6\n",
            "10"
          ]
        }
      ],
      "source": [
        "!g++ APlusB.cpp -o APlusB -std=c++11\n",
        "!./APlusB"
      ]
    },
    {
      "cell_type": "markdown",
      "metadata": {
        "id": "iNkG2HqfTl9c"
      },
      "source": [
        "### Test input output files"
      ]
    },
    {
      "cell_type": "code",
      "execution_count": 5,
      "metadata": {
        "colab": {
          "base_uri": "https://localhost:8080/"
        },
        "id": "aTzU2efzMxly",
        "outputId": "d06e3e61-ae15-4cd5-ce57-20255f6fed6e"
      },
      "outputs": [
        {
          "output_type": "stream",
          "name": "stdout",
          "text": [
            "Writing input1.txt\n"
          ]
        }
      ],
      "source": [
        "%%writefile input1.txt\n",
        "4 8"
      ]
    },
    {
      "cell_type": "code",
      "execution_count": 6,
      "metadata": {
        "colab": {
          "base_uri": "https://localhost:8080/"
        },
        "id": "zBJ0Gc0NQRet",
        "outputId": "ba60dffd-eda1-4c9e-a6bf-347ff61e7054"
      },
      "outputs": [
        {
          "output_type": "stream",
          "name": "stdout",
          "text": [
            "Writing output1.txt\n"
          ]
        }
      ],
      "source": [
        "%%writefile output1.txt\n",
        "12"
      ]
    },
    {
      "cell_type": "code",
      "execution_count": 7,
      "metadata": {
        "colab": {
          "base_uri": "https://localhost:8080/"
        },
        "id": "IjEcIx63PJAN",
        "outputId": "2eaf306a-6395-4ccd-b61a-de622ac03bbc"
      },
      "outputs": [
        {
          "output_type": "stream",
          "name": "stdout",
          "text": [
            "Writing input2.txt\n"
          ]
        }
      ],
      "source": [
        "%%writefile input2.txt\n",
        "0 9"
      ]
    },
    {
      "cell_type": "code",
      "execution_count": 8,
      "metadata": {
        "colab": {
          "base_uri": "https://localhost:8080/"
        },
        "id": "Up9gOrxURTmd",
        "outputId": "a7f7533a-5bd8-4ba0-a6f9-2c7c53986377"
      },
      "outputs": [
        {
          "output_type": "stream",
          "name": "stdout",
          "text": [
            "Writing output2.txt\n"
          ]
        }
      ],
      "source": [
        "%%writefile output2.txt\n",
        "9"
      ]
    },
    {
      "cell_type": "code",
      "execution_count": 9,
      "metadata": {
        "colab": {
          "base_uri": "https://localhost:8080/"
        },
        "id": "PST6G-s-Pwgc",
        "outputId": "39710372-e58f-405f-aa30-d811235d1f9e"
      },
      "outputs": [
        {
          "output_type": "stream",
          "name": "stdout",
          "text": [
            "12"
          ]
        }
      ],
      "source": [
        "!./APlusB < input1.txt"
      ]
    },
    {
      "cell_type": "code",
      "execution_count": 10,
      "metadata": {
        "colab": {
          "base_uri": "https://localhost:8080/"
        },
        "id": "cKxZOjSlRfIN",
        "outputId": "43b3fddf-7dbc-4a5a-fda0-50de33c2733f"
      },
      "outputs": [
        {
          "output_type": "stream",
          "name": "stdout",
          "text": [
            "9"
          ]
        }
      ],
      "source": [
        "!./APlusB < input2.txt"
      ]
    },
    {
      "cell_type": "markdown",
      "metadata": {
        "id": "Qw2TQWCCUwqk"
      },
      "source": [
        "### Comparing files with grep\n",
        "\n",
        "https://askubuntu.com/questions/546796/comparing-two-text-files"
      ]
    },
    {
      "cell_type": "code",
      "execution_count": 11,
      "metadata": {
        "id": "Jlja0Xm4TX9M"
      },
      "outputs": [],
      "source": [
        "!./APlusB < input1.txt> ctest1.txt\n",
        "!grep -xvFf output1.txt ctest1.txt"
      ]
    },
    {
      "cell_type": "code",
      "source": [
        "!grep -xvFf output1.txt output2.txt"
      ],
      "metadata": {
        "colab": {
          "base_uri": "https://localhost:8080/"
        },
        "id": "nhU53t3_jo1J",
        "outputId": "8807c0cf-7218-4af1-d827-8c7fe19996af"
      },
      "execution_count": 17,
      "outputs": [
        {
          "output_type": "stream",
          "name": "stdout",
          "text": [
            "9\n"
          ]
        }
      ]
    },
    {
      "cell_type": "code",
      "source": [
        "!grep -xvFf output2.txt output1.txt"
      ],
      "metadata": {
        "colab": {
          "base_uri": "https://localhost:8080/"
        },
        "id": "qwrMR8ECjwRq",
        "outputId": "67ee5ae8-036b-4f3f-c6fa-d5881db5b5a2"
      },
      "execution_count": 18,
      "outputs": [
        {
          "output_type": "stream",
          "name": "stdout",
          "text": [
            "12\n"
          ]
        }
      ]
    },
    {
      "cell_type": "code",
      "execution_count": 19,
      "metadata": {
        "id": "g9OIUZA_QLCQ"
      },
      "outputs": [],
      "source": [
        "!./APlusB < input2.txt > ctest2.txt\n",
        "!grep -xvFf output2.txt ctest2.txt"
      ]
    },
    {
      "cell_type": "markdown",
      "metadata": {
        "id": "3BgOaDjUVJk6"
      },
      "source": [
        "## Python"
      ]
    },
    {
      "cell_type": "code",
      "execution_count": 20,
      "metadata": {
        "colab": {
          "base_uri": "https://localhost:8080/"
        },
        "id": "DBvl-T0CTN_8",
        "outputId": "3477b154-f04b-4fe5-c670-624f2c6349c6"
      },
      "outputs": [
        {
          "output_type": "stream",
          "name": "stdout",
          "text": [
            "Writing sum.py\n"
          ]
        }
      ],
      "source": [
        "%%writefile sum.py\n",
        "# python3\n",
        "\n",
        "def sum_of_two_digits(first_digit, second_digit):\n",
        "    return first_digit + second_digit\n",
        "\n",
        "if __name__ == '__main__':\n",
        "    a, b = map(int, input().split())\n",
        "    print(sum_of_two_digits(a, b))"
      ]
    },
    {
      "cell_type": "code",
      "execution_count": 21,
      "metadata": {
        "colab": {
          "base_uri": "https://localhost:8080/"
        },
        "id": "QKoKM11_WGyF",
        "outputId": "8b7c5ca2-f929-4169-b93b-0a9430a466ad"
      },
      "outputs": [
        {
          "output_type": "stream",
          "name": "stdout",
          "text": [
            "3 4\n",
            "7\n"
          ]
        }
      ],
      "source": [
        "!python sum.py"
      ]
    },
    {
      "cell_type": "code",
      "execution_count": 22,
      "metadata": {
        "id": "cocFbPRTWrqt"
      },
      "outputs": [],
      "source": [
        "!python sum.py  < input1.txt> ptest1.txt\n",
        "!grep -xvFf output1.txt ptest1.txt"
      ]
    },
    {
      "cell_type": "code",
      "execution_count": 23,
      "metadata": {
        "id": "MorKTa-XXASN"
      },
      "outputs": [],
      "source": [
        "!python sum.py  < input2.txt> ptest2.txt\n",
        "!grep -xvFf output2.txt ptest2.txt"
      ]
    },
    {
      "cell_type": "markdown",
      "metadata": {
        "id": "uvP-mOubW_5F"
      },
      "source": [
        "# II Solving The Maximum Pairwise Product Programming Challenge in C++"
      ]
    },
    {
      "cell_type": "markdown",
      "metadata": {
        "id": "C12yoFR6Xonl"
      },
      "source": [
        "## C++\n",
        "\n",
        "$$ T(n) < 6 n^2 = O(n^2)$$"
      ]
    },
    {
      "cell_type": "code",
      "source": [
        "%%writefile max_pairwise_product_full.cpp\n",
        "#include <iostream>\n",
        "#include <vector>\n",
        "#include <algorithm>\n",
        "\n",
        "int MaxPairwiseProduct(const std::vector<int>& numbers) {\n",
        "    int max_product = 0;\n",
        "    int aux_product = 0;\n",
        "    int n = numbers.size();\n",
        "\n",
        "    for (int first = 0; first < n; ++first) {\n",
        "        for (int second = 0; second < n; ++second) {\n",
        "          if ( first != second ){\n",
        "                aux_product = numbers[first] * numbers[second];\n",
        "                if (aux_product > max_product)  max_product = aux_product;\n",
        "          }\n",
        "        }\n",
        "    }\n",
        "\n",
        "    return max_product;\n",
        "}\n",
        "\n",
        "int main() {\n",
        "    int n;\n",
        "    std::cin >> n;\n",
        "    std::vector<int> numbers(n);\n",
        "    for (int i = 0; i < n; ++i) {\n",
        "        std::cin >> numbers[i];\n",
        "    }\n",
        "\n",
        "    std::cout << MaxPairwiseProduct(numbers) << \"\\n\";\n",
        "    return 0;\n",
        "}"
      ],
      "metadata": {
        "colab": {
          "base_uri": "https://localhost:8080/"
        },
        "id": "3LpfoGv2Ae81",
        "outputId": "622f9907-bc94-4d2c-f14d-d349473b6e22"
      },
      "execution_count": 24,
      "outputs": [
        {
          "output_type": "stream",
          "name": "stdout",
          "text": [
            "Writing max_pairwise_product_full.cpp\n"
          ]
        }
      ]
    },
    {
      "cell_type": "markdown",
      "metadata": {
        "id": "m75IQQPbEHBS"
      },
      "source": [
        "#### Time Complexity\n",
        "$$\\left. \\begin{array}{llc}\n",
        " \\text{INSTRUCTION} & \\text{TYPE}& \\text{# EXECUTIONS}\\\\\n",
        "\\text{first != second} &  \\text{comparisons} &n^2 \\\\\n",
        "\\text{numbers[first] * numbers[second]}& \\ \\text{ products}  &n^2 - n \\\\\n",
        "\\text{max_product = aux_product} &  \\text{assigments} & [1, \\frac{n^2 - n}{2})  \n",
        "\\end{array}\\right\\}  =  O(n^2)$$"
      ]
    },
    {
      "cell_type": "code",
      "source": [
        "!g++ max_pairwise_product_full.cpp -o max_pairwise_product_full\n",
        "!./max_pairwise_product_full"
      ],
      "metadata": {
        "id": "PCVo1h6nCF9k",
        "colab": {
          "base_uri": "https://localhost:8080/"
        },
        "outputId": "671f47d3-121c-4890-d8f4-ea800aafb566"
      },
      "execution_count": 25,
      "outputs": [
        {
          "output_type": "stream",
          "name": "stdout",
          "text": [
            "4\n",
            "1 2 3 4\n",
            "12\n"
          ]
        }
      ]
    },
    {
      "cell_type": "markdown",
      "metadata": {
        "id": "e7KhxHGNS3i0"
      },
      "source": [
        "### Test 1: Small numbers"
      ]
    },
    {
      "cell_type": "code",
      "source": [
        "%%writefile input0.txt\n",
        "10\n",
        "0 0 0 0 0 0 0 0 0 0"
      ],
      "metadata": {
        "colab": {
          "base_uri": "https://localhost:8080/"
        },
        "id": "17npyXt7lYzA",
        "outputId": "68b184a6-d488-4800-d4d4-86a88a40d357"
      },
      "execution_count": 26,
      "outputs": [
        {
          "output_type": "stream",
          "name": "stdout",
          "text": [
            "Writing input0.txt\n"
          ]
        }
      ]
    },
    {
      "cell_type": "code",
      "source": [
        "%%writefile output0.txt\n",
        "0"
      ],
      "metadata": {
        "colab": {
          "base_uri": "https://localhost:8080/"
        },
        "id": "NooGEkJylezm",
        "outputId": "f631380a-31f5-430b-98bb-74b5573c88ad"
      },
      "execution_count": 27,
      "outputs": [
        {
          "output_type": "stream",
          "name": "stdout",
          "text": [
            "Writing output0.txt\n"
          ]
        }
      ]
    },
    {
      "cell_type": "code",
      "source": [
        "!./max_pairwise_product_full< input0.txt > ctest0.txt\n",
        "!grep -xvFf output0.txt ctest0.txt"
      ],
      "metadata": {
        "id": "R0yFaAOrlqrE"
      },
      "execution_count": 28,
      "outputs": []
    },
    {
      "cell_type": "code",
      "execution_count": 29,
      "metadata": {
        "colab": {
          "base_uri": "https://localhost:8080/"
        },
        "id": "e1mmTzBgShT-",
        "outputId": "05ddfab3-b4c7-4074-d33a-b78409ea06d2"
      },
      "outputs": [
        {
          "output_type": "stream",
          "name": "stdout",
          "text": [
            "Overwriting input1.txt\n"
          ]
        }
      ],
      "source": [
        "%%writefile input1.txt\n",
        "10\n",
        "1 2 3 4 5 6 7 8 9 10"
      ]
    },
    {
      "cell_type": "code",
      "execution_count": 30,
      "metadata": {
        "colab": {
          "base_uri": "https://localhost:8080/"
        },
        "id": "vy_uI0x7TCId",
        "outputId": "dbf1d519-25e2-4b6a-845c-92c2f3c05e94"
      },
      "outputs": [
        {
          "output_type": "stream",
          "name": "stdout",
          "text": [
            "/bin/bash: line 1: ./max_pairwise_product: No such file or directory\n"
          ]
        }
      ],
      "source": [
        "!./max_pairwise_product < input1.txt"
      ]
    },
    {
      "cell_type": "code",
      "execution_count": 31,
      "metadata": {
        "colab": {
          "base_uri": "https://localhost:8080/"
        },
        "id": "xaj6f9bxC6D6",
        "outputId": "afbd64ee-7bdf-48ea-e141-ce5f9d9bf5a9"
      },
      "outputs": [
        {
          "output_type": "stream",
          "name": "stdout",
          "text": [
            "Overwriting output1.txt\n"
          ]
        }
      ],
      "source": [
        "%%writefile output1.txt\n",
        "90"
      ]
    },
    {
      "cell_type": "code",
      "execution_count": 32,
      "metadata": {
        "id": "fYCjAdA_C-wy"
      },
      "outputs": [],
      "source": [
        "!./max_pairwise_product_full< input1.txt > ctest1.txt\n",
        "!grep -xvFf output1.txt ctest1.txt"
      ]
    },
    {
      "cell_type": "code",
      "source": [
        "%%writefile input2.txt\n",
        "10\n",
        "10 9 8 7 6 5 4 3 2 1"
      ],
      "metadata": {
        "colab": {
          "base_uri": "https://localhost:8080/"
        },
        "id": "ZPe40LY14_6f",
        "outputId": "6bb3bd13-4525-404c-a6db-e986b67ce3a0"
      },
      "execution_count": 33,
      "outputs": [
        {
          "output_type": "stream",
          "name": "stdout",
          "text": [
            "Overwriting input2.txt\n"
          ]
        }
      ]
    },
    {
      "cell_type": "code",
      "source": [
        "%%writefile output2.txt\n",
        "90"
      ],
      "metadata": {
        "colab": {
          "base_uri": "https://localhost:8080/"
        },
        "id": "xiHmF7HA5Faa",
        "outputId": "6de72403-6c01-4d85-821e-355dd4a87a24"
      },
      "execution_count": 34,
      "outputs": [
        {
          "output_type": "stream",
          "name": "stdout",
          "text": [
            "Overwriting output2.txt\n"
          ]
        }
      ]
    },
    {
      "cell_type": "code",
      "source": [
        "!./max_pairwise_product_full< input2.txt > ctest2.txt\n",
        "!grep -xvFf output2.txt ctest2.txt"
      ],
      "metadata": {
        "id": "jjwc9kwb5t_k"
      },
      "execution_count": 35,
      "outputs": []
    },
    {
      "cell_type": "markdown",
      "metadata": {
        "id": "IeZ3kTjpYmR9"
      },
      "source": [
        "### Test 2: largest input numbers 200000 200000 to check possible intger overflow"
      ]
    },
    {
      "cell_type": "code",
      "execution_count": 36,
      "metadata": {
        "colab": {
          "base_uri": "https://localhost:8080/"
        },
        "id": "LQNlZqaqYt7U",
        "outputId": "da0542aa-fd76-46ab-89e3-f270f5a70bcb"
      },
      "outputs": [
        {
          "output_type": "stream",
          "name": "stdout",
          "text": [
            "Writing input3.txt\n"
          ]
        }
      ],
      "source": [
        "%%writefile input3.txt\n",
        "6\n",
        "1 3 200000 9 200000 23"
      ]
    },
    {
      "cell_type": "code",
      "execution_count": 37,
      "metadata": {
        "colab": {
          "base_uri": "https://localhost:8080/"
        },
        "id": "GjQq7QOUCw-9",
        "outputId": "ced3e686-e005-4e45-df62-041b280e31fc"
      },
      "outputs": [
        {
          "output_type": "execute_result",
          "data": {
            "text/plain": [
              "40000000000"
            ]
          },
          "metadata": {},
          "execution_count": 37
        }
      ],
      "source": [
        "200000*200000"
      ]
    },
    {
      "cell_type": "code",
      "execution_count": 38,
      "metadata": {
        "colab": {
          "base_uri": "https://localhost:8080/"
        },
        "id": "EuS6n3jtDK5C",
        "outputId": "86e62666-2190-452f-c4ed-a5c6e2326c84"
      },
      "outputs": [
        {
          "output_type": "stream",
          "name": "stdout",
          "text": [
            "Writing output3.txt\n"
          ]
        }
      ],
      "source": [
        "%%writefile output3.txt\n",
        "40000000000"
      ]
    },
    {
      "cell_type": "code",
      "execution_count": 39,
      "metadata": {
        "colab": {
          "base_uri": "https://localhost:8080/"
        },
        "id": "2Wad2VZUZDxR",
        "outputId": "a04d79e2-f5d5-4e4c-b2bf-fa4b3b15fdc0"
      },
      "outputs": [
        {
          "output_type": "stream",
          "name": "stdout",
          "text": [
            "1345294336\n"
          ]
        }
      ],
      "source": [
        "!./max_pairwise_product_full < input3.txt"
      ]
    },
    {
      "cell_type": "code",
      "execution_count": 40,
      "metadata": {
        "colab": {
          "base_uri": "https://localhost:8080/"
        },
        "id": "pEvp1ieyDJGq",
        "outputId": "baeb6571-504b-4064-beb6-3a493a24e5ee"
      },
      "outputs": [
        {
          "output_type": "stream",
          "name": "stdout",
          "text": [
            "1345294336\n"
          ]
        }
      ],
      "source": [
        "!./max_pairwise_product_full < input3.txt > ctest3.txt\n",
        "!grep -xvFf output3.txt ctest3.txt"
      ]
    },
    {
      "cell_type": "code",
      "source": [
        " %%writefile run_all_test.sh\n",
        "#!/bin/bash\n",
        "g++ max_pairwise_product_full.cpp -o max_pairwise_product_full\n",
        "for i in {0..3}\n",
        "do\n",
        "    ./max_pairwise_product_full < input$i.txt > ctest$i.txt\n",
        "    grep -xvFf output$i.txt ctest$i.txt\n",
        "done"
      ],
      "metadata": {
        "colab": {
          "base_uri": "https://localhost:8080/"
        },
        "id": "SrtJrKqM-God",
        "outputId": "17080d9d-26ff-468a-9b11-ab7c96f45eb9"
      },
      "execution_count": 41,
      "outputs": [
        {
          "output_type": "stream",
          "name": "stdout",
          "text": [
            "Writing run_all_test.sh\n"
          ]
        }
      ]
    },
    {
      "cell_type": "code",
      "source": [
        "!chmod u+x run_all_test.sh\n",
        "!./run_all_test.sh"
      ],
      "metadata": {
        "colab": {
          "base_uri": "https://localhost:8080/"
        },
        "id": "wGWMHtzS-QnA",
        "outputId": "eb024f04-495f-4061-8bf2-550386e4510e"
      },
      "execution_count": 42,
      "outputs": [
        {
          "output_type": "stream",
          "name": "stdout",
          "text": [
            "1345294336\n"
          ]
        }
      ]
    },
    {
      "cell_type": "markdown",
      "metadata": {
        "id": "H2SC0Qt5HCzz"
      },
      "source": [
        "### Changing the variables to long long"
      ]
    },
    {
      "cell_type": "code",
      "execution_count": 43,
      "metadata": {
        "colab": {
          "base_uri": "https://localhost:8080/"
        },
        "id": "MPcmsxiQZSfE",
        "outputId": "db39736f-ef60-46ad-ab8e-d9ba4abb3ee7"
      },
      "outputs": [
        {
          "output_type": "stream",
          "name": "stdout",
          "text": [
            "Writing max_pairwise_product_long_full.cpp\n"
          ]
        }
      ],
      "source": [
        "%%writefile max_pairwise_product_long_full.cpp\n",
        "#include <iostream>\n",
        "#include <vector>\n",
        "#include <algorithm>\n",
        "\n",
        "long long MaxPairwiseProduct(const std::vector<int>& numbers) {\n",
        "    long long max_product = 0LL;\n",
        "\t  long long aux_product = 0LL;\n",
        "    int n = numbers.size();\n",
        "\n",
        "    for (int first = 0; first < n; ++first) {\n",
        "        for (int second = 0; second < n; ++second) {\n",
        "          if ( first != second){\n",
        "                aux_product = (long long) numbers[first] * numbers[second];\n",
        "                if (aux_product > max_product)  max_product = aux_product;\n",
        "          }\n",
        "        }\n",
        "    }\n",
        "\n",
        "\n",
        "    return max_product;\n",
        "}\n",
        "\n",
        "int main() {\n",
        "    int n;\n",
        "    std::cin >> n;\n",
        "    std::vector<int> numbers(n);\n",
        "    for (int i = 0; i < n; ++i) {\n",
        "        std::cin >> numbers[i];\n",
        "    }\n",
        "\n",
        "    std::cout << MaxPairwiseProduct(numbers) << \"\\n\";\n",
        "    return 0;\n",
        "}\n"
      ]
    },
    {
      "cell_type": "code",
      "source": [
        "!g++ max_pairwise_product_long_full.cpp -o max_pairwise_product_long_full"
      ],
      "metadata": {
        "id": "W3xQpFXL6wjO"
      },
      "execution_count": 44,
      "outputs": []
    },
    {
      "cell_type": "code",
      "source": [
        "!./max_pairwise_product_long_full < input3.txt"
      ],
      "metadata": {
        "colab": {
          "base_uri": "https://localhost:8080/"
        },
        "id": "H5dvN9M3R9sV",
        "outputId": "163be292-fa6c-4be3-ded7-320999067978"
      },
      "execution_count": 45,
      "outputs": [
        {
          "output_type": "stream",
          "name": "stdout",
          "text": [
            "40000000000\n"
          ]
        }
      ]
    },
    {
      "cell_type": "markdown",
      "source": [
        "### Runing multuple test with a bash shell"
      ],
      "metadata": {
        "id": "gx-sEYdfQ8f8"
      }
    },
    {
      "cell_type": "code",
      "source": [
        " %%writefile run_all_test.sh\n",
        "#!/bin/bash\n",
        "g++ max_pairwise_product_long_full.cpp -o max_pairwise_product_long_full\n",
        "for i in {1..3}\n",
        "do\n",
        "    ./max_pairwise_product_long_full < input$i.txt > ctest$i.txt\n",
        "    grep -xvFf output$i.txt ctest$i.txt\n",
        "done"
      ],
      "metadata": {
        "colab": {
          "base_uri": "https://localhost:8080/"
        },
        "id": "O9qsq2nn7elw",
        "outputId": "63acabc6-6784-454e-81df-0232876cefc2"
      },
      "execution_count": 46,
      "outputs": [
        {
          "output_type": "stream",
          "name": "stdout",
          "text": [
            "Overwriting run_all_test.sh\n"
          ]
        }
      ]
    },
    {
      "cell_type": "code",
      "source": [
        "!chmod u+x run_all_test.sh\n",
        "!./run_all_test.sh"
      ],
      "metadata": {
        "id": "0g5kKVph7xIA"
      },
      "execution_count": 47,
      "outputs": []
    },
    {
      "cell_type": "markdown",
      "metadata": {
        "id": "XPVHkHxH6_7s"
      },
      "source": [
        "### Test 3  stress tests, 6 testing cases files input4.txt/output4.txt .. input10.txt/output10.txt\n",
        "\n",
        "---\n",
        "\n"
      ]
    },
    {
      "cell_type": "code",
      "execution_count": 48,
      "metadata": {
        "id": "PwqpBmYr69fu",
        "colab": {
          "base_uri": "https://localhost:8080/"
        },
        "outputId": "518de124-ee6f-4f88-b5b3-d438313327da"
      },
      "outputs": [
        {
          "output_type": "stream",
          "name": "stdout",
          "text": [
            "Writing input4.txt\n"
          ]
        }
      ],
      "source": [
        "%%writefile input4.txt\n",
        "4\n",
        "10 30 2000 900"
      ]
    },
    {
      "cell_type": "code",
      "execution_count": 49,
      "metadata": {
        "id": "jBCkMeR6Fw4y",
        "colab": {
          "base_uri": "https://localhost:8080/"
        },
        "outputId": "b089769e-913e-4a69-c065-63baab8f9630"
      },
      "outputs": [
        {
          "output_type": "stream",
          "name": "stdout",
          "text": [
            "Writing output4.txt\n"
          ]
        }
      ],
      "source": [
        "%%writefile output4.txt\n",
        "1800000"
      ]
    },
    {
      "cell_type": "code",
      "source": [
        "%%writefile input5.txt\n",
        "9\n",
        "2298 2190 198 321 21098 910 22222 2 12"
      ],
      "metadata": {
        "id": "zED8V8wu-eoM",
        "colab": {
          "base_uri": "https://localhost:8080/"
        },
        "outputId": "f3b80ad5-73d7-43e1-a77d-b7ef00e8bd5b"
      },
      "execution_count": 50,
      "outputs": [
        {
          "output_type": "stream",
          "name": "stdout",
          "text": [
            "Writing input5.txt\n"
          ]
        }
      ]
    },
    {
      "cell_type": "code",
      "source": [
        "%%writefile output5.txt\n",
        "468839756"
      ],
      "metadata": {
        "colab": {
          "base_uri": "https://localhost:8080/"
        },
        "id": "9ri_d4K1mo6V",
        "outputId": "4e3f5465-f2ba-44ba-d5d5-7b824df3f4b4"
      },
      "execution_count": 51,
      "outputs": [
        {
          "output_type": "stream",
          "name": "stdout",
          "text": [
            "Writing output5.txt\n"
          ]
        }
      ]
    },
    {
      "cell_type": "code",
      "source": [
        "%%writefile input6.txt\n",
        "5\n",
        "12 3345 267 9888 299"
      ],
      "metadata": {
        "colab": {
          "base_uri": "https://localhost:8080/"
        },
        "id": "5gS-Ch7mmgLf",
        "outputId": "c2b08ecf-0054-46ad-f252-90f59bbd30c4"
      },
      "execution_count": 52,
      "outputs": [
        {
          "output_type": "stream",
          "name": "stdout",
          "text": [
            "Writing input6.txt\n"
          ]
        }
      ]
    },
    {
      "cell_type": "code",
      "source": [
        "%%writefile output6.txt\n",
        "33075360"
      ],
      "metadata": {
        "colab": {
          "base_uri": "https://localhost:8080/"
        },
        "id": "ioKDoH8jmpoB",
        "outputId": "cf05464c-8bab-4106-c074-003e02abad48"
      },
      "execution_count": 53,
      "outputs": [
        {
          "output_type": "stream",
          "name": "stdout",
          "text": [
            "Writing output6.txt\n"
          ]
        }
      ]
    },
    {
      "cell_type": "code",
      "source": [
        "%%writefile input7.txt\n",
        "8\n",
        "1 333 22 9999999 222 234 345 456"
      ],
      "metadata": {
        "colab": {
          "base_uri": "https://localhost:8080/"
        },
        "id": "N_VNdLWjmgqP",
        "outputId": "ff02db9b-1e5c-4cfa-db60-9e5fd8031a1a"
      },
      "execution_count": 54,
      "outputs": [
        {
          "output_type": "stream",
          "name": "stdout",
          "text": [
            "Writing input7.txt\n"
          ]
        }
      ]
    },
    {
      "cell_type": "code",
      "source": [
        "%%writefile output7.txt\n",
        "4559999544"
      ],
      "metadata": {
        "colab": {
          "base_uri": "https://localhost:8080/"
        },
        "id": "VoV5emj0mqYd",
        "outputId": "4dc726b9-4e5b-4c94-db22-82fbd178acc6"
      },
      "execution_count": 55,
      "outputs": [
        {
          "output_type": "stream",
          "name": "stdout",
          "text": [
            "Writing output7.txt\n"
          ]
        }
      ]
    },
    {
      "cell_type": "code",
      "source": [
        "%%writefile input8.txt\n",
        "6\n",
        "567 71 13 320 229 2"
      ],
      "metadata": {
        "colab": {
          "base_uri": "https://localhost:8080/"
        },
        "id": "Go7LWz0zmhI0",
        "outputId": "86e63ab7-f74b-4c2d-ce4e-18b893d61f93"
      },
      "execution_count": 56,
      "outputs": [
        {
          "output_type": "stream",
          "name": "stdout",
          "text": [
            "Writing input8.txt\n"
          ]
        }
      ]
    },
    {
      "cell_type": "code",
      "source": [
        "%%writefile output8.txt\n",
        "181440"
      ],
      "metadata": {
        "colab": {
          "base_uri": "https://localhost:8080/"
        },
        "id": "ByAR4KJFmrHy",
        "outputId": "162aeb29-39d0-485c-e5ed-5c593d6eafc3"
      },
      "execution_count": 57,
      "outputs": [
        {
          "output_type": "stream",
          "name": "stdout",
          "text": [
            "Writing output8.txt\n"
          ]
        }
      ]
    },
    {
      "cell_type": "code",
      "source": [
        "%%writefile input9.txt\n",
        "7\n",
        "22223 10 30 2000 900 2298 2190"
      ],
      "metadata": {
        "colab": {
          "base_uri": "https://localhost:8080/"
        },
        "id": "3o_reAGNmhsB",
        "outputId": "a7c9ca7d-301d-4f07-b7dd-d5779da42ffd"
      },
      "execution_count": 58,
      "outputs": [
        {
          "output_type": "stream",
          "name": "stdout",
          "text": [
            "Writing input9.txt\n"
          ]
        }
      ]
    },
    {
      "cell_type": "code",
      "source": [
        "%%writefile output9.txt\n",
        "51068454"
      ],
      "metadata": {
        "colab": {
          "base_uri": "https://localhost:8080/"
        },
        "id": "YlYl56NTmrwI",
        "outputId": "28c08551-4470-48aa-a72e-fa4ad710b530"
      },
      "execution_count": 59,
      "outputs": [
        {
          "output_type": "stream",
          "name": "stdout",
          "text": [
            "Writing output9.txt\n"
          ]
        }
      ]
    },
    {
      "cell_type": "code",
      "source": [
        "%%writefile input10.txt\n",
        "3\n",
        "198 321 22098"
      ],
      "metadata": {
        "colab": {
          "base_uri": "https://localhost:8080/"
        },
        "id": "0ShdxVeymiG1",
        "outputId": "b14567e1-5a25-4140-eae5-683ef66d4731"
      },
      "execution_count": 60,
      "outputs": [
        {
          "output_type": "stream",
          "name": "stdout",
          "text": [
            "Writing input10.txt\n"
          ]
        }
      ]
    },
    {
      "cell_type": "code",
      "source": [
        "%%writefile output10.txt\n",
        "7093458"
      ],
      "metadata": {
        "colab": {
          "base_uri": "https://localhost:8080/"
        },
        "id": "TTKCJq6ymsYO",
        "outputId": "be00c00f-3cf5-4c69-bcde-e65a5d2dff5c"
      },
      "execution_count": 61,
      "outputs": [
        {
          "output_type": "stream",
          "name": "stdout",
          "text": [
            "Writing output10.txt\n"
          ]
        }
      ]
    },
    {
      "cell_type": "code",
      "source": [
        "%%writefile run_all_test.sh\n",
        "#!/bin/bash\n",
        "g++ max_pairwise_product_long_full.cpp -o max_pairwise_product_long_full\n",
        "for i in {4..10}\n",
        "do\n",
        "    ./max_pairwise_product_long_full < input\n",
        "i.txt\n",
        "    grep -xvFf output\n",
        "i.txt\n",
        "done"
      ],
      "metadata": {
        "colab": {
          "base_uri": "https://localhost:8080/"
        },
        "id": "QfdjxEfUqQWH",
        "outputId": "8c4b14d7-e131-42a3-f1ab-65c5976688de"
      },
      "execution_count": 62,
      "outputs": [
        {
          "output_type": "stream",
          "name": "stdout",
          "text": [
            "Overwriting run_all_test.sh\n"
          ]
        }
      ]
    },
    {
      "cell_type": "code",
      "source": [
        "!chmod u+x run_all_test.sh\n",
        "!./run_all_test.sh"
      ],
      "metadata": {
        "id": "cGp4SdRhqVwL"
      },
      "execution_count": null,
      "outputs": []
    },
    {
      "cell_type": "markdown",
      "metadata": {
        "id": "9z9yr5QkeyJF"
      },
      "source": [
        "### Test 4  time test  measure the execution time running with the the largest worst cases input11.txt  (200000 increasing numbers) and input12.txt (199998 increasing numbers and  200000, 200000 at the end)"
      ]
    },
    {
      "cell_type": "code",
      "source": [
        "# input11.txt 200000 increasing numbers:  1 2 .. 200000\n",
        "\n",
        "%%writefile WriteTest.cpp\n",
        "\n",
        "#include <iostream>\n",
        "#include <fstream>\n",
        "#include <cstdlib>\n",
        "\n",
        "using namespace std;\n",
        "\n",
        "int main() {\n",
        "  // Create and open a text file\n",
        "  ofstream MyFile(\"input11.txt\");\n",
        "\n",
        " MyFile << 200000 <<\"\\n\";  // n\n",
        " for (int i=1; i <200001; i++){\n",
        "     MyFile << i <<\" \";\n",
        " }\n",
        "\n",
        "  // Close the file\n",
        "  MyFile.close();\n",
        "}"
      ],
      "metadata": {
        "colab": {
          "base_uri": "https://localhost:8080/"
        },
        "id": "UmB1ipWM_nSk",
        "outputId": "e6892833-430f-458f-cff5-640fe89df710"
      },
      "execution_count": 64,
      "outputs": [
        {
          "output_type": "stream",
          "name": "stdout",
          "text": [
            "Writing WriteTest.cpp\n"
          ]
        }
      ]
    },
    {
      "cell_type": "code",
      "execution_count": 65,
      "metadata": {
        "id": "EH25TkOkZfD9"
      },
      "outputs": [],
      "source": [
        "!g++ WriteTest.cpp -o WriteTest\n",
        "!./WriteTest"
      ]
    },
    {
      "cell_type": "code",
      "source": [
        "199999 * 200000"
      ],
      "metadata": {
        "colab": {
          "base_uri": "https://localhost:8080/"
        },
        "id": "j0mokSOnCCtZ",
        "outputId": "c7535884-9e84-4224-a830-211957271ec6"
      },
      "execution_count": 66,
      "outputs": [
        {
          "output_type": "execute_result",
          "data": {
            "text/plain": [
              "39999800000"
            ]
          },
          "metadata": {},
          "execution_count": 66
        }
      ]
    },
    {
      "cell_type": "code",
      "source": [
        "%%writefile output11.txt\n",
        "39999800000"
      ],
      "metadata": {
        "id": "VoDhDV73B5Mo",
        "colab": {
          "base_uri": "https://localhost:8080/"
        },
        "outputId": "7102a232-ce88-4ea9-86b9-c535624be2b6"
      },
      "execution_count": 67,
      "outputs": [
        {
          "output_type": "stream",
          "name": "stdout",
          "text": [
            "Writing output11.txt\n"
          ]
        }
      ]
    },
    {
      "cell_type": "code",
      "execution_count": 68,
      "metadata": {
        "colab": {
          "base_uri": "https://localhost:8080/"
        },
        "id": "oLiMjbAIfPlX",
        "outputId": "14dd5433-0f53-45dc-bcbe-7316f4696036"
      },
      "outputs": [
        {
          "output_type": "stream",
          "name": "stdout",
          "text": [
            "Overwriting WriteTest.cpp\n"
          ]
        }
      ],
      "source": [
        "# input12.txt 200000 decreasing numbers and 200000, 199999 ...  2 1\n",
        "\n",
        "%%writefile WriteTest.cpp\n",
        "\n",
        "#include <iostream>\n",
        "#include <fstream>\n",
        "#include <cstdlib>\n",
        "\n",
        "using namespace std;\n",
        "\n",
        "int main() {\n",
        "  // Create and open a text file\n",
        "  ofstream MyFile(\"input12.txt\");\n",
        "\n",
        " MyFile << 200000 <<\"\\n\";  // n\n",
        " for (int i=1; i <200001; i++){\n",
        "     MyFile << 200001-i <<\" \";\n",
        " }\n",
        "\n",
        "  // Close the file\n",
        "  MyFile.close();\n",
        "}"
      ]
    },
    {
      "cell_type": "code",
      "source": [
        "!g++ WriteTest.cpp -o WriteTest\n",
        "!./WriteTest"
      ],
      "metadata": {
        "id": "oULNBr_zAd9c"
      },
      "execution_count": 69,
      "outputs": []
    },
    {
      "cell_type": "code",
      "source": [
        "%%writefile output12.txt\n",
        "39999800000"
      ],
      "metadata": {
        "colab": {
          "base_uri": "https://localhost:8080/"
        },
        "id": "PQLyocaFB-y4",
        "outputId": "90405234-6e36-46bc-d574-fcd7ba94307a"
      },
      "execution_count": 70,
      "outputs": [
        {
          "output_type": "stream",
          "name": "stdout",
          "text": [
            "Writing output12.txt\n"
          ]
        }
      ]
    },
    {
      "cell_type": "markdown",
      "metadata": {
        "id": "JB6f03qO-lj9"
      },
      "source": [
        "### Measure time\n",
        "\n",
        "https://askubuntu.com/questions/53444/how-can-i-measure-the-execution-time-of-a-terminal-process"
      ]
    },
    {
      "cell_type": "code",
      "execution_count": 72,
      "metadata": {
        "colab": {
          "base_uri": "https://localhost:8080/"
        },
        "id": "6p2QLEr576zk",
        "outputId": "a082cdbf-f685-48d1-8180-3ba4e7b45e5e"
      },
      "outputs": [
        {
          "output_type": "stream",
          "name": "stdout",
          "text": [
            "^C\n"
          ]
        }
      ],
      "source": [
        "!g++ max_pairwise_product_long_full.cpp -o max_pairwise_product_long_full\n",
        "!time ./max_pairwise_product_long_full< input11.txt"
      ]
    },
    {
      "cell_type": "code",
      "source": [
        "!g++ max_pairwise_product_long_full.cpp -o max_pairwise_product_long_full\n",
        "!time ./max_pairwise_product_long_full< input12.txt"
      ],
      "metadata": {
        "colab": {
          "base_uri": "https://localhost:8080/"
        },
        "id": "cnjCyeUdAnZj",
        "outputId": "1e2eb3ee-e239-4271-a1a3-10f58f6b7540"
      },
      "execution_count": 73,
      "outputs": [
        {
          "output_type": "stream",
          "name": "stdout",
          "text": [
            "39999800000\n",
            "^C\n"
          ]
        }
      ]
    },
    {
      "cell_type": "markdown",
      "metadata": {
        "id": "FXClpBsUJuXC"
      },
      "source": [
        "### Calculate the number or and upper bound to the number of instructions executed by the algorithm as a function of n, add in each line a comment with the number of instructions that are executed in that line."
      ]
    },
    {
      "cell_type": "code",
      "execution_count": 74,
      "metadata": {
        "colab": {
          "base_uri": "https://localhost:8080/"
        },
        "id": "uG6Mv-Pwlkii",
        "outputId": "790ccaff-e969-4073-9ac2-b13e37d2fe3a"
      },
      "outputs": [
        {
          "output_type": "stream",
          "name": "stdout",
          "text": [
            "Overwriting max_pairwise_product_long_full.cpp\n"
          ]
        }
      ],
      "source": [
        "%%writefile max_pairwise_product_long_full.cpp\n",
        "#include <iostream>\n",
        "#include <vector>\n",
        "#include <algorithm>\n",
        "\n",
        "long long MaxPairwiseProduct(const std::vector<int>& numbers) {              //INSTRUCTIONS executed by line\n",
        "    long long max_product = 0LL;                                             //1\n",
        "\t  long long aux_product = 0LL;                                             //1\n",
        "    int n = numbers.size();                                                  //1\n",
        "\n",
        "    for (int first = 0; first < n; ++first) {                                //2+2n\n",
        "        for (int second = 0; second < n; ++second) {                         //2n + 2n**2\n",
        "          if ( first != second ){                                            //n**2\n",
        "                aux_product = numbers[first] * numbers[second];              //n**2 -n\n",
        "                if (aux_product > max_product)                               //n**2 -n\n",
        "                    max_product = aux_product;                               //[0, n**2/2 - n/2] upper bound\n",
        "          }\n",
        "        }\n",
        "    }\n",
        "\n",
        "                                                                             // --------------\n",
        "    return max_product;                                                      // 5 + 2*n + [5*n**2, 11*n**2/2  - n/2]  upper bound\n",
        "}\n",
        "\n",
        "int main() {                                              //INSTRUCTIONS executed by line\n",
        "    int n;                                                //1\n",
        "    std::cin >> n;                                        //1\n",
        "    std::vector<int> numbers(n);                          //n\n",
        "    for (int i = 0; i < n; ++i) {                         //2 + 2n\n",
        "        std::cin >> numbers[i];                           //n\n",
        "    }\n",
        "\n",
        "    std::cout << MaxPairwiseProduct(numbers) << \"\\n\";     //1 + 1  + 5 + 2*n + [5*n**2, 11*n**2/2  - n/2]\n",
        "\n",
        "    return 0;                                             // --------------\n",
        "}                                                         //  11 + 6*n + [5*n**2, 11*n**2/2  - n/2]  upper bound\n"
      ]
    },
    {
      "cell_type": "markdown",
      "metadata": {
        "id": "0vTsUg8OwcHs"
      },
      "source": [
        "### Count executed intructions in code"
      ]
    },
    {
      "cell_type": "code",
      "execution_count": 75,
      "metadata": {
        "colab": {
          "base_uri": "https://localhost:8080/"
        },
        "id": "CuRKkqQc137V",
        "outputId": "454fd5c5-437c-493b-af6b-6fba21f78adc"
      },
      "outputs": [
        {
          "output_type": "stream",
          "name": "stdout",
          "text": [
            "Writing max_pairwise_product_long_full_execints.cpp\n"
          ]
        }
      ],
      "source": [
        "%%writefile max_pairwise_product_long_full_execints.cpp\n",
        "#include <iostream>\n",
        "#include <vector>\n",
        "#include <algorithm>\n",
        "\n",
        "long long MaxPairwiseProduct(const std::vector<int>& numbers, long long &execints) {      //INSTRUCTIONS executed by line\n",
        "\n",
        "    long long max_product = 0LL;                                                          //1\n",
        "    execints++;\n",
        "\n",
        "\t  long long aux_product = 0LL;                                                          //1\n",
        "    execints++;\n",
        "\n",
        "    int n = numbers.size();                                                               //1\n",
        "    execints++;\n",
        "\n",
        "    execints++;\n",
        "    for (int first = 0; first < n; ++first) {                                             //2+2n\n",
        "        execints += 2;\n",
        "\n",
        "        execints++;\n",
        "        for (int second = 0; second < n; ++second) {                                       //2n + 2n**2\n",
        "          execints += 2;\n",
        "\n",
        "          execints++;\n",
        "          if ( first != second ){                                                         //n**2\n",
        "                aux_product = numbers[first] * numbers[second];                           //n**2 -n\n",
        "                execints++;\n",
        "\n",
        "                execints++;\n",
        "                if (aux_product > max_product){                                           //n**2 -n\n",
        "                    max_product = aux_product;                                            //[0,n**2/2 - n/2)  upper bound\n",
        "                    execints++;\n",
        "\n",
        "                }\n",
        "        }\n",
        "\n",
        "      }\n",
        "      execints++;\n",
        "    }\n",
        "    execints++;\n",
        "                                                                                        // --------------\n",
        "    return max_product;                                                                 // 5 + 2*n + [5*n**2, 11*n**2/2  - n/2] upper bound\n",
        "}\n",
        "\n",
        "int main() {                                                 //INSTRUCTIONS executed by line\n",
        "\n",
        "    long long execints =0LL;\n",
        "\n",
        "    int n;                                                   //1\n",
        "    execints++;\n",
        "\n",
        "    std::cin >> n;                                           //1\n",
        "    execints++;\n",
        "\n",
        "    std::vector<int> numbers(n);                             //n\n",
        "    execints += n;\n",
        "\n",
        "    execints++;\n",
        "    for (int i = 0; i < n; ++i) {                            //2 + 2n\n",
        "        execints += 2;\n",
        "\n",
        "        std::cin >> numbers[i];\n",
        "        execints++;                                          //n\n",
        "\n",
        "    }\n",
        "\n",
        "\n",
        "    //std::cout << MaxPairwiseProduct(numbers) << \"\\n\";      //1 + 1  + 5 + 2*n + [5*n**2, 11*n**2/2  - n/2] upper bound\n",
        "\n",
        "    execints++;\n",
        "    int M = MaxPairwiseProduct(numbers,execints);\n",
        "\n",
        "    execints++;\n",
        "    std::cout <<  execints << \"\\n\";\n",
        "    return 0;                                                // --------------\n",
        "}                                                            // 11 + 6*n + [5*n**2, 11*n**2/2  - n/2]"
      ]
    },
    {
      "cell_type": "markdown",
      "source": [
        "The number of instructions executed by the algooirithm with a list of size $n$ is  \n",
        "\n",
        "$$T (n) = 11 + 6n + \\left[5n^2, 11\\frac{n^2}{2}  - \\frac{n}{2}\\right)  >  6n^2 = O(n^2)$$\n",
        "\n",
        "It depends on the size of the lists and  the order of the list.\n",
        "\n",
        "For the input0.txt\n",
        "```\n",
        "10\n",
        "0 0 0 0 0 0 0 0 0 0\n",
        "```\n",
        "$$T = 11 + 6(10) + 5(10)^2   = 561 $$\n",
        "\n",
        "$$T(10) \\in [571, 621)  $$\n"
      ],
      "metadata": {
        "id": "cUjHtvtdDsmr"
      }
    },
    {
      "cell_type": "code",
      "source": [
        "!g++ max_pairwise_product_long_full_execints.cpp -o max_pairwise_product_long_full_execints\n",
        "!./max_pairwise_product_long_full_execints < input0.txt"
      ],
      "metadata": {
        "colab": {
          "base_uri": "https://localhost:8080/"
        },
        "id": "Om9Fevb0miAT",
        "outputId": "4d0e237a-0f37-43ee-9d47-388cc1f1dba3"
      },
      "execution_count": 76,
      "outputs": [
        {
          "output_type": "stream",
          "name": "stdout",
          "text": [
            "570\n"
          ]
        }
      ]
    },
    {
      "cell_type": "markdown",
      "source": [
        "For the input1.txt\n",
        "```\n",
        "10\n",
        "1 2 3 4 5 6 7 8 9 10\n",
        "```\n",
        "$$T = 11 + 6(10) + 5(10)^2 +  9 + 5 + 4 + 3 + 2 + 2 + 2 + 2 + 1 + 0  = 601 $$\n",
        "\n",
        "$$T(10) \\in [572, 622)  $$\n"
      ],
      "metadata": {
        "id": "FwJzZ6VzmArY"
      }
    },
    {
      "cell_type": "code",
      "source": [
        "#The number of times that  max_product = aux_product; in the worst case is less than (n**2 -n)/2 -  upper bound\n",
        "\n",
        "#     1  2  3  4  5  6  7  8  9  10\n",
        "#  1  x  2  3  4  5  6  7  8  9  10         9\n",
        "#  2  2  x  6  8  10 12 14 16 18 20         5 14\n",
        "#  3  3  6  x  12 15 18 21 24 27 30         4 18\n",
        "#  4  4  8  12 x  20 24 28 32 36 40         3 21\n",
        "#  5  5  10 15 20 x  30 35 40 45 50         2 23\n",
        "#  6  6  12 18 24 30 x  42 48 54 60         2 25\n",
        "#  7  7  14 21 28 35 42 x  56 63 70         2 27\n",
        "#  8  8  18 27 36 45 54 63 72 x  90         1 30\n",
        "#  10 10 20 30 40 50 60 70 60 90 x          0"
      ],
      "metadata": {
        "id": "K59xQMWiBNFj"
      },
      "execution_count": 77,
      "outputs": []
    },
    {
      "cell_type": "code",
      "source": [
        "11 + 6*(10) + 5*(10)*(10) +  9 + 5 + 4 + 3 + 2 + 2 + 2 + 2 + 1 + 0"
      ],
      "metadata": {
        "colab": {
          "base_uri": "https://localhost:8080/"
        },
        "id": "E3O8dzFfEgir",
        "outputId": "e14dd975-2d17-4ae0-a64b-52dd73674d9e"
      },
      "execution_count": 78,
      "outputs": [
        {
          "output_type": "execute_result",
          "data": {
            "text/plain": [
              "601"
            ]
          },
          "metadata": {},
          "execution_count": 78
        }
      ]
    },
    {
      "cell_type": "code",
      "source": [
        "n = 10\n",
        "print( \"[\", 11 + 6*n + 5*n**2,  \",\", 11 + 6*n  + 5.5*n**2, \")\")"
      ],
      "metadata": {
        "colab": {
          "base_uri": "https://localhost:8080/"
        },
        "id": "TCpdl5u_Gq1a",
        "outputId": "4ecee6c6-0a05-4784-80de-1ad999b0edd3"
      },
      "execution_count": 79,
      "outputs": [
        {
          "output_type": "stream",
          "name": "stdout",
          "text": [
            "[ 571 , 621.0 )\n"
          ]
        }
      ]
    },
    {
      "cell_type": "code",
      "execution_count": 80,
      "metadata": {
        "colab": {
          "base_uri": "https://localhost:8080/"
        },
        "id": "Kuvm1C05ly2a",
        "outputId": "5e7d78d4-559b-48a2-8e33-7e382adb2479"
      },
      "outputs": [
        {
          "output_type": "stream",
          "name": "stdout",
          "text": [
            "600\n"
          ]
        }
      ],
      "source": [
        "!g++ max_pairwise_product_long_full_execints.cpp -o max_pairwise_product_long_full_execints\n",
        "!./max_pairwise_product_long_full_execints < input1.txt"
      ]
    },
    {
      "cell_type": "markdown",
      "source": [
        "\n",
        "For the input2.txt\n",
        "```\n",
        "10\n",
        "10 9 8 7 6 5 4 3 2 1\n",
        "```\n",
        "$$T = 11 + 6*(10) + 5*(10)**2 +  1  = 571 $$"
      ],
      "metadata": {
        "id": "Yr_Lb7CaHfxB"
      }
    },
    {
      "cell_type": "code",
      "source": [
        "11 + 6*(10) + 5*(10)**2 +  1"
      ],
      "metadata": {
        "colab": {
          "base_uri": "https://localhost:8080/"
        },
        "id": "HOdqlwJiZUIp",
        "outputId": "423ef7ed-86f4-4ef1-a47b-760e350a3f53"
      },
      "execution_count": 81,
      "outputs": [
        {
          "output_type": "execute_result",
          "data": {
            "text/plain": [
              "572"
            ]
          },
          "metadata": {},
          "execution_count": 81
        }
      ]
    },
    {
      "cell_type": "code",
      "source": [
        "!g++ max_pairwise_product_long_full_execints.cpp -o max_pairwise_product_long_full_execints\n",
        "!./max_pairwise_product_long_full_execints < input2.txt"
      ],
      "metadata": {
        "id": "_znzLectjFSe",
        "colab": {
          "base_uri": "https://localhost:8080/"
        },
        "outputId": "627ce298-598e-4f71-e7bb-0aa867ea5ca2"
      },
      "execution_count": 82,
      "outputs": [
        {
          "output_type": "stream",
          "name": "stdout",
          "text": [
            "571\n"
          ]
        }
      ]
    },
    {
      "cell_type": "markdown",
      "metadata": {
        "id": "NXW7QkoBL6xH"
      },
      "source": [
        "Calculate estimated time by instruction and number of instructions by second"
      ]
    },
    {
      "cell_type": "markdown",
      "source": [
        "For the input11.txt\n",
        "```\n",
        "200000\n",
        "1 2 ..  199999 2000\n",
        "```\n",
        "$$T = 11 + 6*(200000) + 5.5*(200000)**2  = 200001200012  $$"
      ],
      "metadata": {
        "id": "dlyRjaohz-YH"
      }
    },
    {
      "cell_type": "code",
      "source": [
        "!g++ max_pairwise_product_long_full_execints.cpp -o max_pairwise_product_long_full_execints\n",
        "!./max_pairwise_product_long_full_execints < input11.txt"
      ],
      "metadata": {
        "colab": {
          "base_uri": "https://localhost:8080/"
        },
        "id": "BMH8mF3EKn2w",
        "outputId": "c0c6cd02-da00-4af1-c0a5-b84ee2c38d54"
      },
      "execution_count": 83,
      "outputs": [
        {
          "output_type": "stream",
          "name": "stdout",
          "text": [
            "^C\n"
          ]
        }
      ]
    },
    {
      "cell_type": "code",
      "execution_count": 84,
      "metadata": {
        "colab": {
          "base_uri": "https://localhost:8080/"
        },
        "id": "pKqB3i7dIxnc",
        "outputId": "a7890905-3fde-4166-b55a-1e8b4ec2ca43"
      },
      "outputs": [
        {
          "output_type": "execute_result",
          "data": {
            "text/plain": [
              "1.4749765693187072e-09"
            ]
          },
          "metadata": {},
          "execution_count": 84
        }
      ],
      "source": [
        "# Estimated time by instruction\n",
        "# use the real reported  !time ./max_pairwise_product_long_full< input11.txt in seconds intead of the 295\n",
        "\n",
        "295/200003177092\n"
      ]
    },
    {
      "cell_type": "code",
      "execution_count": 85,
      "metadata": {
        "colab": {
          "base_uri": "https://localhost:8080/"
        },
        "id": "18N1ouqeMhE1",
        "outputId": "e58f23ff-2ee1-47fa-bcca-d94e7319cc82"
      },
      "outputs": [
        {
          "output_type": "execute_result",
          "data": {
            "text/plain": [
              "677976871.4983051"
            ]
          },
          "metadata": {},
          "execution_count": 85
        }
      ],
      "source": [
        "# Estimated number of instructions by second\n",
        "\n",
        "200003177092/295"
      ]
    },
    {
      "cell_type": "markdown",
      "source": [
        "### Estimate and verify the maximun n that can be solved in 1 second\n",
        "\n",
        "$$(5.5n^2 + 5.5n + 11) \\times 1.47*10^{-9} s = 1 s$$\n",
        "\n",
        "$$ n \\approx 11000$$\n"
      ],
      "metadata": {
        "id": "KyuxejFkL5X_"
      }
    },
    {
      "cell_type": "code",
      "source": [
        "# Verify input13.txt\n",
        "%%writefile WriteTest.cpp\n",
        "\n",
        "#include <iostream>\n",
        "#include <fstream>\n",
        "#include <cstdlib>\n",
        "\n",
        "using namespace std;\n",
        "\n",
        "int main() {\n",
        "  // Create and open a text file\n",
        "  ofstream MyFile(\"input13.txt\");\n",
        "\n",
        " MyFile << 11000 <<\"\\n\";  // n\n",
        " for (int i=1; i <11001; i++){\n",
        "     MyFile << i <<\" \";\n",
        " }\n",
        "\n",
        "  // Close the file\n",
        "  MyFile.close();\n",
        "}"
      ],
      "metadata": {
        "colab": {
          "base_uri": "https://localhost:8080/"
        },
        "id": "WXu5jp-DLTOI",
        "outputId": "ff440904-c0e5-4faf-848b-cbfc897622ea"
      },
      "execution_count": 86,
      "outputs": [
        {
          "output_type": "stream",
          "name": "stdout",
          "text": [
            "Overwriting WriteTest.cpp\n"
          ]
        }
      ]
    },
    {
      "cell_type": "code",
      "source": [
        "!g++ WriteTest.cpp -o WriteTest\n",
        "!./WriteTest"
      ],
      "metadata": {
        "id": "AQ8N52pUMCeT"
      },
      "execution_count": 87,
      "outputs": []
    },
    {
      "cell_type": "code",
      "source": [
        "10999 * 11000"
      ],
      "metadata": {
        "colab": {
          "base_uri": "https://localhost:8080/"
        },
        "id": "2iIOdbTrEtBx",
        "outputId": "6a84bcc8-ff3e-41e7-b9c5-a2e4737def38"
      },
      "execution_count": 88,
      "outputs": [
        {
          "output_type": "execute_result",
          "data": {
            "text/plain": [
              "120989000"
            ]
          },
          "metadata": {},
          "execution_count": 88
        }
      ]
    },
    {
      "cell_type": "code",
      "source": [
        "!g++ max_pairwise_product_long_full.cpp -o max_pairwise_product_long_full\n",
        "!time ./max_pairwise_product_long_full< input13.txt"
      ],
      "metadata": {
        "colab": {
          "base_uri": "https://localhost:8080/"
        },
        "id": "ussuAokfM2du",
        "outputId": "4ac321cc-dfd9-4f4c-c64e-e78debe0eb2e"
      },
      "execution_count": 89,
      "outputs": [
        {
          "output_type": "stream",
          "name": "stdout",
          "text": [
            "120989000\n",
            "\n",
            "real\t0m0.864s\n",
            "user\t0m0.855s\n",
            "sys\t0m0.002s\n"
          ]
        }
      ]
    },
    {
      "cell_type": "markdown",
      "metadata": {
        "id": "Tm_AVmt-QQH4"
      },
      "source": [
        "## Python"
      ]
    },
    {
      "cell_type": "code",
      "execution_count": 90,
      "metadata": {
        "id": "kAEAoNZEQTCw",
        "colab": {
          "base_uri": "https://localhost:8080/"
        },
        "outputId": "d1d0a57f-df69-4dc7-b391-de8886fe36fa"
      },
      "outputs": [
        {
          "output_type": "stream",
          "name": "stdout",
          "text": [
            "Writing max_pairwise_product_long_full.py\n"
          ]
        }
      ],
      "source": [
        "%%writefile max_pairwise_product_long_full.py\n",
        "def MaxPairwiseProduct(numbers):\n",
        "  max_product = 0\n",
        "  aux_product = 0\n",
        "  n = len(numbers)\n",
        "\n",
        "  for first in range (n):\n",
        "    for second in range(n):\n",
        "      if(first != second):\n",
        "        aux_product = numbers[first]*numbers[second]\n",
        "        if aux_product > max_product:\n",
        "          max_product = aux_product\n",
        "  return max_product\n",
        "\n",
        "n = int(input())\n",
        "numbers = [int(i) for i in input().split()]\n",
        "print(MaxPairwiseProduct(numbers))"
      ]
    },
    {
      "cell_type": "code",
      "execution_count": 91,
      "metadata": {
        "id": "hjw7TJrDL0d-",
        "colab": {
          "base_uri": "https://localhost:8080/"
        },
        "outputId": "d83c0d67-ab85-4b7d-d368-01730d369d5f"
      },
      "outputs": [
        {
          "output_type": "stream",
          "name": "stdout",
          "text": [
            "120989000\n",
            "Traceback (most recent call last):\n",
            "  File \"/content/max_pairwise_product_long_full.py\", line 16, in <module>\n",
            "    print(MaxPairwiseProduct(numbers))\n",
            "  File \"/content/max_pairwise_product_long_full.py\", line 10, in MaxPairwiseProduct\n",
            "    if aux_product > max_product:\n",
            "KeyboardInterrupt\n",
            "^C\n"
          ]
        }
      ],
      "source": [
        "# Verify\n",
        "!time python3 max_pairwise_product_long_full.py < input13.txt"
      ]
    },
    {
      "cell_type": "markdown",
      "source": [
        "# For the follwing solutions rquired  the same tests and analysis performed for the first solution"
      ],
      "metadata": {
        "id": "fEZR-3V4ZjCv"
      }
    },
    {
      "cell_type": "markdown",
      "metadata": {
        "id": "MKQKSC-vKePK"
      },
      "source": [
        "## Solutions in C++ and Python that uses\n",
        "$$\\frac{n^2 - n}{2} = O(n^2)\\ \\ \\text{products}$$"
      ]
    },
    {
      "cell_type": "code",
      "execution_count": 92,
      "metadata": {
        "id": "jkkHHoxSK65p",
        "colab": {
          "base_uri": "https://localhost:8080/"
        },
        "outputId": "2d37301e-b69c-4ddc-9e9e-6d72f86b1302"
      },
      "outputs": [
        {
          "output_type": "stream",
          "name": "stdout",
          "text": [
            "Writing max_pairwise_product.cpp\n"
          ]
        }
      ],
      "source": [
        "%%writefile max_pairwise_product.cpp\n",
        "#include <iostream>\n",
        "#include <vector>\n",
        "#include <algorithm>\n",
        "\n",
        "int MaxPairwiseProduct(const std::vector<int>& numbers) {\n",
        "    int max_product = 0;\n",
        "    int n = numbers.size();\n",
        "\n",
        "    for (int first = 0; first < n; ++first) {\n",
        "        for (int second = first + 1; second < n; ++second) {\n",
        "            max_product = std::max(max_product,\n",
        "                numbers[first] * numbers[second]);\n",
        "        }\n",
        "    }\n",
        "\n",
        "    return max_product;\n",
        "}\n",
        "\n",
        "int main() {\n",
        "    int n;\n",
        "    std::cin >> n;\n",
        "    std::vector<int> numbers(n);\n",
        "    for (int i = 0; i < n; ++i) {\n",
        "        std::cin >> numbers[i];\n",
        "    }\n",
        "\n",
        "    std::cout << MaxPairwiseProduct(numbers) << \"\\n\";\n",
        "    return 0;\n",
        "}"
      ]
    },
    {
      "cell_type": "code",
      "execution_count": 93,
      "metadata": {
        "id": "sU8-Ote7K8vz",
        "colab": {
          "base_uri": "https://localhost:8080/"
        },
        "outputId": "381214eb-a558-403c-fa44-f847bbfbb4b2"
      },
      "outputs": [
        {
          "output_type": "stream",
          "name": "stdout",
          "text": [
            "Writing max_pairwise_product_long.cpp\n"
          ]
        }
      ],
      "source": [
        "%%writefile max_pairwise_product_long.cpp\n",
        "#include <iostream>\n",
        "#include <vector>\n",
        "#include <algorithm>\n",
        "\n",
        "long long MaxPairwiseProduct(const std::vector<int>& numbers) {              //INSTRUCTIONS executed by line\n",
        "    long long max_product = 0LL;                                             //1\n",
        "\t  long long aux_product = 0LL;                                             //1\n",
        "    int n = numbers.size();                                                  //1\n",
        "\n",
        "    for (int first = 0; first < n; ++first) {                                //2+2n\n",
        "        for (int second = first + 1; second < n; ++second) {                 //2n + (n-1)n\n",
        "\t\t\t       aux_product =  (long long) numbers[first] * numbers[second];    //(n-1)n/2\n",
        "            if (max_product < aux_product)  {                                //(n-1)n/2\n",
        "\t\t\t\t        max_product = aux_product;                                   //[1,(n-1)n/2)  upper bound\n",
        "             }\n",
        "        }\n",
        "    }\n",
        "                                                                             // --------------\n",
        "    return max_product;                                                      // 5 + 4n + [2(n-1)n+1, 2.5 (n-1)n) upper bound\n",
        "}\n",
        "\n",
        "int main() {                                              //INSTRUCTIONS executed by line\n",
        "    int n;                                                //1\n",
        "    std::cin >> n;                                        //1\n",
        "    std::vector<int> numbers(n);                          //n\n",
        "    for (int i = 0; i < n; ++i) {                         //2 + 2n\n",
        "        std::cin >> numbers[i];                           //n\n",
        "    }\n",
        "\n",
        "    std::cout << MaxPairwiseProduct(numbers) << \"\\n\";     //1 + 1  + 5 + 4n + [2(n-1)n+1, 2.5 (n-1)n) upper bound\n",
        "    return 0;                                             // --------------\n",
        "}                                                         // 11 + 7n + [2(n-1)n+1, 2.5 (n-1)n) upper bound\n"
      ]
    },
    {
      "cell_type": "code",
      "execution_count": 94,
      "metadata": {
        "id": "5QWT3fneK8nw",
        "colab": {
          "base_uri": "https://localhost:8080/"
        },
        "outputId": "fb8fc4b7-73f4-4091-d69b-e724a56d240d"
      },
      "outputs": [
        {
          "output_type": "stream",
          "name": "stdout",
          "text": [
            "120989000\n",
            "\n",
            "real\t0m0.411s\n",
            "user\t0m0.405s\n",
            "sys\t0m0.003s\n"
          ]
        }
      ],
      "source": [
        "!g++ max_pairwise_product_long.cpp -o max_pairwise_product_long\n",
        "!time ./max_pairwise_product_long < input13.txt"
      ]
    },
    {
      "cell_type": "markdown",
      "metadata": {
        "id": "1Hsbd-uHOb_j"
      },
      "source": [
        "# Sort solution in C++ and Python\n",
        "\n",
        "$$ O(n \\lg n)$$\n",
        "\n",
        "**Which sorting algorithm is used in GCC?**\n",
        "https://stackoverflow.com/questions/7221257/which-sorting-algorithm-is-used-in-gcc\n",
        "\n",
        "* ...  the algorithm is called introsort, a combination between Insertionsort, Quicksort & Heapsort. ...\n",
        "\n",
        "**Introsort**\n",
        "https://en.wikipedia.org/wiki/Introsort\n",
        "\n",
        "Introsort or introspective sort is a hybrid sorting algorithm that provides both fast average performance and (asymptotically) optimal worst-case performance. It begins with quicksort, it switches to heapsort when the recursion depth exceeds a level based on (the logarithm of) the number of elements being sorted and it switches to insertion sort when the number of elements is below some threshold\n",
        "\n",
        "*   Class\tSorting algorithm\n",
        "*   Data structure\tArray\n",
        "*   Worst-case performance\t$O(n \\lg n)$\n",
        "*   Average performance\t$O(n \\lg n)$\n",
        "\n",
        "**Timsort**\n",
        "https://en.wikipedia.org/wiki/Timsort\n",
        "\n",
        "Timsort is a hybrid, stable sorting algorithm, derived from merge sort and insertion sort, designed to perform well on many kinds of real-world data. It was implemented by Tim Peters in 2002 for use in the Python programming language.\n",
        "\n",
        "*   Class\tSorting algorithm\n",
        "*   Data structure\tArray\n",
        "*   Worst-case performance\t$O(n \\lg n)$\n",
        "*   Best-case performance $O(n)$\n",
        "*   Average performance\t$O(n \\lg n)$\n",
        "*   Worst-case space complexity $O(n)$"
      ]
    },
    {
      "cell_type": "code",
      "source": [
        "# %%writefile max_pairwise_product_with_sort.py\n",
        "# #Python3\n",
        "# if __name__ == \"__main__\":\n",
        "#     n = int(input())\n",
        "#     lista = list(map(int, input().split()))\n",
        "#     lista.sort()\n",
        "#     print(lista[n - 1] * lista[n - 2])\n",
        "\n",
        "\n",
        "%%writefile max_pairwise_product_sort.py\n",
        "def max_pairwise_product_sort(numbers):\n",
        "  numbers.sort(reverse=True)\n",
        "  return numbers[0] * numbers[1]\n",
        "\n",
        "n = int(input())\n",
        "numbers = [int(i) for i in input().split()]\n",
        "print(max_pairwise_product_sort(numbers))"
      ],
      "metadata": {
        "id": "jnIRWyUEDu_C",
        "colab": {
          "base_uri": "https://localhost:8080/"
        },
        "outputId": "b04c7165-75c9-4845-b389-08c054a649e2"
      },
      "execution_count": 95,
      "outputs": [
        {
          "output_type": "stream",
          "name": "stdout",
          "text": [
            "Writing max_pairwise_product_sort.py\n"
          ]
        }
      ]
    },
    {
      "cell_type": "markdown",
      "metadata": {
        "id": "v8pdV9ABOb_k"
      },
      "source": [
        "Test with inputs 1 and 2\n",
        "\n"
      ]
    },
    {
      "cell_type": "code",
      "execution_count": 96,
      "metadata": {
        "id": "kdXAyLG4Ob_k",
        "colab": {
          "base_uri": "https://localhost:8080/"
        },
        "outputId": "88a6aa7c-eaa1-45bf-b9b2-49519fa1c73d"
      },
      "outputs": [
        {
          "output_type": "stream",
          "name": "stdout",
          "text": [
            "Overwriting run_all_test.sh\n"
          ]
        }
      ],
      "source": [
        "# !./max_pairwise_product_with_sort_C < input1.txt\n",
        "# !./max_pairwise_product_with_sort_C < input2.txt\n",
        "\n",
        "\n",
        "%%writefile run_all_test.sh\n",
        "#comparing all the executions to check the differences between the outputs\n",
        "for i in {1..2}\n",
        "do\n",
        "    python3 max_pairwise_product_sort.py < input\n",
        "i.txt\n",
        "    grep -xvFf pythonOutput\n",
        "i.txt\n",
        "done"
      ]
    },
    {
      "cell_type": "markdown",
      "metadata": {
        "id": "Sw-5X1q1Ob_k"
      },
      "source": [
        "Test and time it with input 3"
      ]
    },
    {
      "cell_type": "code",
      "execution_count": 97,
      "metadata": {
        "id": "ryHJ30WIOb_k",
        "colab": {
          "base_uri": "https://localhost:8080/"
        },
        "outputId": "553eaf31-1a8f-44be-e3ed-2837ca8dce84"
      },
      "outputs": [
        {
          "output_type": "stream",
          "name": "stdout",
          "text": [
            "\n",
            "real\t0m0.044s\n",
            "user\t0m0.026s\n",
            "sys\t0m0.016s\n"
          ]
        }
      ],
      "source": [
        "!time python3 max_pairwise_product_sort.py < input3.txt > pythonOutput3.txt\n",
        "!grep -xvFf pythonOutput3.txt output3.txt"
      ]
    },
    {
      "cell_type": "markdown",
      "metadata": {
        "id": "oJGdPl1HOb_k"
      },
      "source": [
        "20 stress tests"
      ]
    },
    {
      "cell_type": "code",
      "execution_count": 98,
      "metadata": {
        "id": "pXHtO1dEOb_k",
        "colab": {
          "base_uri": "https://localhost:8080/"
        },
        "outputId": "0c25e972-ce02-43eb-d565-fb56d7933336"
      },
      "outputs": [
        {
          "output_type": "stream",
          "name": "stdout",
          "text": [
            "-------------------------------------------------\n",
            "Testing with the list: [160437354, 342710036, 789976288, 142546745, 375199311]\n",
            "The efficient solution gives the result 624062535602258944\n",
            "-------------------------------------------------\n",
            "-------------------------------------------------\n",
            "Testing with the list: [623958279, 207047952, 34027427, 237122797, 284530550, 233297537, 587541213, 362889918, 894854190, 792798039, 48445605, 685018459]\n",
            "The efficient solution gives the result 800764021360556100\n",
            "-------------------------------------------------\n",
            "-------------------------------------------------\n",
            "Testing with the list: [699119373, 980005951, 459058179, 803680572, 439801794]\n",
            "The efficient solution gives the result 960411663995414401\n",
            "-------------------------------------------------\n",
            "-------------------------------------------------\n",
            "Testing with the list: [500837110, 303017932, 287562759, 849017672, 178100663]\n",
            "The efficient solution gives the result 720831007368299584\n",
            "-------------------------------------------------\n",
            "-------------------------------------------------\n",
            "Testing with the list: [761585914, 607769174]\n",
            "The efficient solution gives the result 580013104403215396\n",
            "-------------------------------------------------\n",
            "-------------------------------------------------\n",
            "Testing with the list: [19623092, 231987371, 487847926, 686570947, 5190472]\n",
            "The efficient solution gives the result 471379665264476809\n",
            "-------------------------------------------------\n",
            "-------------------------------------------------\n",
            "Testing with the list: [726413982, 806159261, 614160604, 209436794, 597772552, 789593017]\n",
            "The efficient solution gives the result 649892754096066121\n",
            "-------------------------------------------------\n",
            "-------------------------------------------------\n",
            "Testing with the list: [70922231, 870081411]\n",
            "The efficient solution gives the result 61708114819747941\n",
            "-------------------------------------------------\n",
            "-------------------------------------------------\n",
            "Testing with the list: [233946687, 437942432, 910836588]\n",
            "The efficient solution gives the result 398893990503302016\n",
            "-------------------------------------------------\n",
            "-------------------------------------------------\n",
            "Testing with the list: [897941040, 511791233, 116699400, 713967615]\n",
            "The efficient solution gives the result 806298111316281600\n",
            "-------------------------------------------------\n",
            "-------------------------------------------------\n",
            "Testing with the list: [564185551, 936009305, 257639274, 486411986]\n",
            "The efficient solution gives the result 876113419046583025\n",
            "-------------------------------------------------\n",
            "-------------------------------------------------\n",
            "Testing with the list: [726914116, 652852964, 482169782, 276619573, 628971845, 611322602, 349718766, 334334600]\n",
            "The efficient solution gives the result 528404132040061456\n",
            "-------------------------------------------------\n",
            "-------------------------------------------------\n",
            "Testing with the list: [375703757, 479682181, 608732897, 453605606, 785938667, 355529049, 470183868, 553721046, 597330038, 35788240]\n",
            "The efficient solution gives the result 617699588285736889\n",
            "-------------------------------------------------\n",
            "-------------------------------------------------\n",
            "Testing with the list: [354271920, 649018896, 163618476, 502278801]\n",
            "The efficient solution gives the result 421225527365058816\n",
            "-------------------------------------------------\n",
            "-------------------------------------------------\n",
            "Testing with the list: [954226030, 447513649, 84169765]\n",
            "The efficient solution gives the result 910547316329560900\n",
            "-------------------------------------------------\n",
            "-------------------------------------------------\n",
            "Testing with the list: [395876499, 917975727, 224570458, 687111761, 576619451, 532581556]\n",
            "The efficient solution gives the result 842679435361178529\n",
            "-------------------------------------------------\n",
            "-------------------------------------------------\n",
            "Testing with the list: [619386655, 220392426, 815123833, 367757419, 762923645]\n",
            "The efficient solution gives the result 664426863124611889\n",
            "-------------------------------------------------\n",
            "-------------------------------------------------\n",
            "Testing with the list: [467190203, 397847784, 849024358, 169664374, 441891295, 388522368]\n",
            "The efficient solution gives the result 720842360477312164\n",
            "-------------------------------------------------\n",
            "-------------------------------------------------\n",
            "Testing with the list: [345665572, 2533913, 566399215, 383847935, 868572388, 905370772, 381771832]\n",
            "The efficient solution gives the result 819696234791875984\n",
            "-------------------------------------------------\n",
            "-------------------------------------------------\n",
            "Testing with the list: [303722018, 617513441, 430773241, 265486590]\n",
            "The efficient solution gives the result 381322849815660481\n",
            "-------------------------------------------------\n"
          ]
        }
      ],
      "source": [
        "import random\n",
        "\n",
        "def max_pairwise_efficient(numbers):\n",
        "    n = len(numbers)\n",
        "    biggest_1 = float('-inf')\n",
        "    biggest_2 = float('-inf')\n",
        "\n",
        "    for i in range(n):\n",
        "        new = numbers[i]\n",
        "        temp = biggest_1\n",
        "        if new > biggest_1:\n",
        "          biggest_2 = biggest_1\n",
        "          biggest_1 = new\n",
        "        if temp > biggest_2: biggest_2 = temp\n",
        "\n",
        "    return biggest_1 * biggest_2\n",
        "\n",
        "# 20 stress tests\n",
        "for _ in range(20):\n",
        "    n = random.randint(2, 12)  # Use a large n\n",
        "    numbers = [random.randint(1, 10**9) for _ in range(n)]  # Generate n random numbers between 1 and 10^9\n",
        "\n",
        "    print(\"-------------------------------------------------\")\n",
        "    print(f\"Testing with the list: {numbers}\")\n",
        "    print(f\"The efficient solution gives the result {max_pairwise_efficient(numbers)}\")\n",
        "    # Add any additional test or comparison here if needed\n",
        "    print(\"-------------------------------------------------\")"
      ]
    },
    {
      "cell_type": "markdown",
      "metadata": {
        "id": "2beTmWFPOb_k"
      },
      "source": [
        "Count executed instructions in code and verify with inputs 1,2 and 3\n"
      ]
    },
    {
      "cell_type": "code",
      "execution_count": 99,
      "metadata": {
        "id": "iuByv4x1Ob_k",
        "colab": {
          "base_uri": "https://localhost:8080/"
        },
        "outputId": "e3249d6d-cb1c-4e79-fbed-2b33cf3775f8"
      },
      "outputs": [
        {
          "output_type": "stream",
          "name": "stdout",
          "text": [
            "Writing max_pairwise_efficient.py\n"
          ]
        }
      ],
      "source": [
        "%%writefile max_pairwise_efficient.py\n",
        "import random\n",
        "execints = 0\n",
        "\n",
        "def max_pairwise_efficient(numbers):\n",
        "    global execints\n",
        "    n = len(numbers)  # Tamaño de la lista\n",
        "    biggest_1 = float('-inf')  # Inicializa el valor más grande en -infinito\n",
        "    biggest_2 = float('-inf')  # Inicializa el segundo valor más grande en -infinito\n",
        "    execints += 3  # Se cuenta como 3 instrucciones iniciales\n",
        "\n",
        "    for i in range(n):\n",
        "        new_number = numbers[i]  # Toma el siguiente número de la lista\n",
        "        temp = biggest_1  # Almacena temporalmente el valor más grande encontrado\n",
        "        execints += 2  # 2 instrucciones por la asignación y la comparación\n",
        "\n",
        "        if new_number > biggest_1:  # Si el nuevo número es mayor que el más grande\n",
        "            biggest_2 = biggest_1  # El anterior mayor pasa a ser el segundo más grande\n",
        "            biggest_1 = new_number  # El nuevo número se convierte en el más grande\n",
        "            execints += 2  # 2 instrucciones por el bloque if\n",
        "\n",
        "        if temp > biggest_2:  # Si el valor temporal (anterior mayor) es mayor que el segundo mayor\n",
        "            biggest_2 = temp  # Se actualiza el segundo mayor\n",
        "            execints += 2  # 2 instrucciones por la comparación y asignación\n",
        "\n",
        "        execints += 2  # Por las dos comparaciones en cada iteración\n",
        "\n",
        "    execints += 1  # Incrementa por la línea de retorno final\n",
        "    return biggest_1 * biggest_2  # Devuelve el producto máximo de los dos números más grandes\n",
        "\n",
        "\n",
        "\n",
        "\n",
        "if __name__ == '__main__':\n",
        "    n = int(input())  # Lee el tamaño de la lista\n",
        "    input_line = input()  # Lee la línea de números\n",
        "    numbers = list(map(int, input_line.split()))  # Convierte la línea de entrada en una lista de enteros\n",
        "    max_pairwise_efficient(numbers)  # Llama a la función para calcular el producto máximo\n",
        "\n",
        "    execints += 1  # Incrementa por el final de la ejecución de la función\n",
        "\n",
        "    print(\"El numero de instrucciones es:\", execints)  # Imprime el número de instrucciones ejecutadas"
      ]
    },
    {
      "cell_type": "code",
      "source": [
        "%%writefile run_all_test.sh\n",
        "for i in {1..3}\n",
        "do\n",
        "    echo \"Input #$i\"\n",
        "    python3 max_pairwise_efficient.py < input$i.txt\n",
        "done"
      ],
      "metadata": {
        "colab": {
          "base_uri": "https://localhost:8080/"
        },
        "id": "CgWQOGlXtwe5",
        "outputId": "afc48ac5-87db-432c-e5a0-d217bdeae2dc"
      },
      "execution_count": 100,
      "outputs": [
        {
          "output_type": "stream",
          "name": "stdout",
          "text": [
            "Overwriting run_all_test.sh\n"
          ]
        }
      ]
    },
    {
      "cell_type": "code",
      "source": [
        "!chmod u+x run_all_test.sh\n",
        "!./run_all_test.sh"
      ],
      "metadata": {
        "colab": {
          "base_uri": "https://localhost:8080/"
        },
        "id": "STp2Ar2LuJV5",
        "outputId": "df646b7e-ee5d-41d3-f338-ef6b5daedb28"
      },
      "execution_count": 103,
      "outputs": [
        {
          "output_type": "stream",
          "name": "stdout",
          "text": [
            "Input #1\n",
            "El numero de instrucciones es: 65\n",
            "Input #2\n",
            "El numero de instrucciones es: 49\n",
            "Input #3\n",
            "El numero de instrucciones es: 37\n"
          ]
        }
      ]
    },
    {
      "cell_type": "markdown",
      "metadata": {
        "id": "x2CXhkwTOb_l"
      },
      "source": [
        "Calculate estimated time by instruction and number of instructions by second"
      ]
    },
    {
      "cell_type": "code",
      "source": [
        "!time python3 max_pairwise_efficient.py < input11.txt > pythonOutputSort11.txt\n",
        "!python3 max_pairwise_efficient.py < input11.txt\n",
        "num_inst_per_seg = 1200005/0.165\n",
        "print(f\"{num_inst_per_seg} tiempo por instrucción\")"
      ],
      "metadata": {
        "colab": {
          "base_uri": "https://localhost:8080/"
        },
        "id": "98ansBFEuHuD",
        "outputId": "ae1a5de7-ebb7-4582-e8cf-627cfe248c60"
      },
      "execution_count": 104,
      "outputs": [
        {
          "output_type": "stream",
          "name": "stdout",
          "text": [
            "\n",
            "real\t0m0.212s\n",
            "user\t0m0.165s\n",
            "sys\t0m0.040s\n",
            "El numero de instrucciones es: 1200005\n",
            "7272757.575757575 tiempo por instrucción\n"
          ]
        }
      ]
    },
    {
      "cell_type": "markdown",
      "source": [
        "### Estimate and verify the maximun n that can be solved in 1 second"
      ],
      "metadata": {
        "id": "CcgDYDQuaFeH"
      }
    },
    {
      "cell_type": "code",
      "source": [
        "import time\n",
        "import random\n",
        "n = 0 #numero de instrucciones\n",
        "\n",
        "def instruction(numbers):\n",
        "    m = len(numbers)\n",
        "    biggest_1 = float('-inf')\n",
        "    biggest_2 = float('-inf')\n",
        "    global n\n",
        "    n += 3\n",
        "\n",
        "    for i in range(m):\n",
        "        new = numbers[i]\n",
        "        temp = biggest_1\n",
        "        n += 2\n",
        "        if new > biggest_1:\n",
        "            biggest_2 = biggest_1\n",
        "            biggest_1 = new\n",
        "            n += 2\n",
        "        if temp > biggest_2:\n",
        "            biggest_2 = temp\n",
        "            n += 1\n",
        "        n += 2\n",
        "    return n\n",
        "# Ejecutar la función y medir el tiempo de ejecución\n",
        "start_time = time.time()\n",
        "numbers = [random.randint(1, 100) for _ in range(10)]\n",
        "instruction = instruction(numbers) # Suponiendo que 'numbers' es una lista válida\n",
        "end_time = time.time()\n",
        "\n",
        "# Calcular el número de instrucciones por segundo\n",
        "elapsed_time = end_time - start_time\n",
        "instructions_per_second = instruction / elapsed_time\n",
        "#print(start_time)\n",
        "#print(end_time)\n",
        "print(f\"Número de instrucciones por segundo: {instructions_per_second}\")"
      ],
      "metadata": {
        "id": "fLztHReKaGFq",
        "colab": {
          "base_uri": "https://localhost:8080/"
        },
        "outputId": "55982d60-9baf-4a21-8463-f2b504572909"
      },
      "execution_count": 105,
      "outputs": [
        {
          "output_type": "stream",
          "name": "stdout",
          "text": [
            "Número de instrucciones por segundo: 168736.36781609195\n"
          ]
        }
      ]
    },
    {
      "cell_type": "markdown",
      "metadata": {
        "id": "VMKC5duEOQfk"
      },
      "source": [
        "## Efficient solution with largest and second-largest in an list, array or vector in C++ and Python\n",
        "\n",
        " $$T(n) < 10 n  = O(n)$$\n",
        "\n",
        "\n",
        "\n"
      ]
    },
    {
      "cell_type": "markdown",
      "metadata": {
        "id": "nLcKBwbU0QsE"
      },
      "source": [
        "Add in each line a coment with the number of intstrcution that are executed in that line"
      ]
    },
    {
      "cell_type": "code",
      "execution_count": 106,
      "metadata": {
        "id": "knls5Fh3NSt_",
        "colab": {
          "base_uri": "https://localhost:8080/"
        },
        "outputId": "00bb46ee-29eb-4f45-822f-915efc2797b8"
      },
      "outputs": [
        {
          "output_type": "stream",
          "name": "stdout",
          "text": [
            "4\n",
            "8\n",
            "0\n"
          ]
        }
      ],
      "source": [
        "def efficientSolution(numbers):  # 1 instrucción para definir la función\n",
        "    largest = 0  # 1 instrucción para asignar el valor 0 a largest\n",
        "    secondLargest = 0  # 1 instrucción para asignar el valor 0 a secondLargest\n",
        "    for i in numbers:  # 1 instrucción para iniciar el bucle\n",
        "        if i > largest:  # 1 instrucción para la comparación i > largest\n",
        "            secondLargest = largest  # 1 instrucción para asignar largest a secondLargest\n",
        "            largest = i  # 1 instrucción para asignar i a largest\n",
        "        elif i > secondLargest:  # 1 instrucción para la comparación i > secondLargest\n",
        "            secondLargest = i  # 1 instrucción para asignar i a secondLargest\n",
        "\n",
        "    result = secondLargest * largest  # 1 instrucción para la multiplicación y asignación a result\n",
        "    return result  # 1 instrucción para retornar el resultado\n",
        "\n",
        "n = int(input())  # 1 instrucción para leer la entrada y convertirla a entero\n",
        "numbers = [int(i) for i in input().split()]  # 2 instrucciones: leer entrada y convertir a lista de enteros\n",
        "print(efficientSolution(numbers))  # 1 instrucción para llamar a la función y mostrar el resultado"
      ]
    },
    {
      "cell_type": "markdown",
      "metadata": {
        "id": "-JCijbWxNSii"
      },
      "source": [
        "Test with inputs 1 and 2\n",
        "\n"
      ]
    },
    {
      "cell_type": "code",
      "execution_count": 107,
      "metadata": {
        "id": "TrTGAfqlNVXT",
        "colab": {
          "base_uri": "https://localhost:8080/"
        },
        "outputId": "8431c30a-1a61-4ee1-b26e-223307ad1c49"
      },
      "outputs": [
        {
          "output_type": "stream",
          "name": "stdout",
          "text": [
            "python3: can't open file '/content/efficientSolution.py': [Errno 2] No such file or directory\n",
            "python3: can't open file '/content/efficientSolution.py': [Errno 2] No such file or directory\n"
          ]
        }
      ],
      "source": [
        "!python3 efficientSolution.py < input1.txt\n",
        "!python3 efficientSolution.py < input2.txt"
      ]
    },
    {
      "cell_type": "markdown",
      "metadata": {
        "id": "PRX51wADNR8b"
      },
      "source": [
        "Test and time it with input 3"
      ]
    },
    {
      "cell_type": "code",
      "execution_count": 108,
      "metadata": {
        "id": "v4z7-Is_NRt7",
        "colab": {
          "base_uri": "https://localhost:8080/"
        },
        "outputId": "b47fb333-2484-4e87-8f6b-73a19b517d0e"
      },
      "outputs": [
        {
          "output_type": "stream",
          "name": "stdout",
          "text": [
            "python3: can't open file '/content/efficientSolution.py': [Errno 2] No such file or directory\n",
            "\n",
            "real\t0m0.042s\n",
            "user\t0m0.031s\n",
            "sys\t0m0.011s\n"
          ]
        }
      ],
      "source": [
        "!time python3 efficientSolution.py < input3.txt"
      ]
    },
    {
      "cell_type": "markdown",
      "metadata": {
        "id": "rpdfs0_TNZJf"
      },
      "source": [
        "20 stress tests"
      ]
    },
    {
      "cell_type": "code",
      "execution_count": 109,
      "metadata": {
        "id": "Lu4tYcKzNcTT",
        "colab": {
          "base_uri": "https://localhost:8080/"
        },
        "outputId": "4f053723-931b-49f8-e70d-aa509e8db9de"
      },
      "outputs": [
        {
          "output_type": "stream",
          "name": "stdout",
          "text": [
            "-------------------------------------------------\n",
            "Testing with the list: [120628161, 449369656, 84465619, 565558351, 960929097, 557295247, 707950921]\n",
            "The efficient solution gives the result 680290639236848337\n",
            "The comparison solution gives the result 680290639236848337\n",
            "The solution is correct OK\n",
            "-------------------------------------------------\n",
            "-------------------------------------------------\n",
            "Testing with the list: [852949854, 957757226]\n",
            "The efficient solution gives the result 816918886084145004\n",
            "The comparison solution gives the result 816918886084145004\n",
            "The solution is correct OK\n",
            "-------------------------------------------------\n",
            "-------------------------------------------------\n",
            "Testing with the list: [981824273, 117549769, 6086696, 162218569]\n",
            "The efficient solution gives the result 159270128575525337\n",
            "The comparison solution gives the result 159270128575525337\n",
            "The solution is correct OK\n",
            "-------------------------------------------------\n",
            "-------------------------------------------------\n",
            "Testing with the list: [285714847, 801251057]\n",
            "The efficient solution gives the result 228929323159343279\n",
            "The comparison solution gives the result 228929323159343279\n",
            "The solution is correct OK\n",
            "-------------------------------------------------\n",
            "-------------------------------------------------\n",
            "Testing with the list: [131284151, 37774370, 403255924]\n",
            "The efficient solution gives the result 52941111618060524\n",
            "The comparison solution gives the result 52941111618060524\n",
            "The solution is correct OK\n",
            "-------------------------------------------------\n",
            "-------------------------------------------------\n",
            "Testing with the list: [573603862, 70031249, 790426681, 935807585, 945120463, 587527372, 807359445, 181496112, 884440640, 71611960, 414891408, 966420654]\n",
            "The efficient solution gives the result 913383935961242802\n",
            "The comparison solution gives the result 913383935961242802\n",
            "The solution is correct OK\n",
            "-------------------------------------------------\n",
            "-------------------------------------------------\n",
            "Testing with the list: [44237952, 908426767, 305301670, 574478222, 308193410, 729688543, 726242601, 32333726, 44332087, 443410321, 991499622, 682391191]\n",
            "The efficient solution gives the result 900704796095182074\n",
            "The comparison solution gives the result 900704796095182074\n",
            "The solution is correct OK\n",
            "-------------------------------------------------\n",
            "-------------------------------------------------\n",
            "Testing with the list: [807374715, 374456490, 805869795, 520875363, 336325561, 142725057, 598063821, 546167427, 48704406, 788207307]\n",
            "The efficient solution gives the result 650638896065233425\n",
            "The comparison solution gives the result 650638896065233425\n",
            "The solution is correct OK\n",
            "-------------------------------------------------\n",
            "-------------------------------------------------\n",
            "Testing with the list: [716314387, 932267067, 481704429, 978236997, 214551134]\n",
            "The efficient solution gives the result 911978136024077799\n",
            "The comparison solution gives the result 911978136024077799\n",
            "The solution is correct OK\n",
            "-------------------------------------------------\n",
            "-------------------------------------------------\n",
            "Testing with the list: [674865906, 744135794, 347636581]\n",
            "The efficient solution gives the result 502191876804839364\n",
            "The comparison solution gives the result 502191876804839364\n",
            "The solution is correct OK\n",
            "-------------------------------------------------\n",
            "-------------------------------------------------\n",
            "Testing with the list: [997760347, 346240759]\n",
            "The efficient solution gives the result 345465299845383373\n",
            "The comparison solution gives the result 345465299845383373\n",
            "The solution is correct OK\n",
            "-------------------------------------------------\n",
            "-------------------------------------------------\n",
            "Testing with the list: [235960954, 842758677, 821928349, 519941879]\n",
            "The efficient solution gives the result 692687247992034273\n",
            "The comparison solution gives the result 692687247992034273\n",
            "The solution is correct OK\n",
            "-------------------------------------------------\n",
            "-------------------------------------------------\n",
            "Testing with the list: [661196348, 614393769, 944890505, 263110231, 304355589, 99437753, 665652137, 391301520, 51220809, 608694003, 616149151, 964424482]\n",
            "The efficient solution gives the result 911275535831343410\n",
            "The comparison solution gives the result 911275535831343410\n",
            "The solution is correct OK\n",
            "-------------------------------------------------\n",
            "-------------------------------------------------\n",
            "Testing with the list: [52456486, 54416952]\n",
            "The efficient solution gives the result 2854522080750672\n",
            "The comparison solution gives the result 2854522080750672\n",
            "The solution is correct OK\n",
            "-------------------------------------------------\n",
            "-------------------------------------------------\n",
            "Testing with the list: [264828897, 177209808, 516727973, 5125970, 979692843, 196820449, 992994474, 25542421, 250837589, 255080613, 928909930]\n",
            "The efficient solution gives the result 972829579316349582\n",
            "The comparison solution gives the result 972829579316349582\n",
            "The solution is correct OK\n",
            "-------------------------------------------------\n",
            "-------------------------------------------------\n",
            "Testing with the list: [938748661, 182684852, 855663878, 266266250, 900888498]\n",
            "The efficient solution gives the result 845707871207801178\n",
            "The comparison solution gives the result 845707871207801178\n",
            "The solution is correct OK\n",
            "-------------------------------------------------\n",
            "-------------------------------------------------\n",
            "Testing with the list: [440841241, 954962813, 388555031]\n",
            "The efficient solution gives the result 420986991591770933\n",
            "The comparison solution gives the result 420986991591770933\n",
            "The solution is correct OK\n",
            "-------------------------------------------------\n",
            "-------------------------------------------------\n",
            "Testing with the list: [389672380, 499345341, 430077273, 174469217, 847229499, 429447814]\n",
            "The efficient solution gives the result 423060103083414159\n",
            "The comparison solution gives the result 423060103083414159\n",
            "The solution is correct OK\n",
            "-------------------------------------------------\n",
            "-------------------------------------------------\n",
            "Testing with the list: [952420547, 993330828, 869739265, 99836860, 957141080, 516445073]\n",
            "The efficient solution gives the result 950757741509214240\n",
            "The comparison solution gives the result 950757741509214240\n",
            "The solution is correct OK\n",
            "-------------------------------------------------\n",
            "-------------------------------------------------\n",
            "Testing with the list: [639303112, 970537467, 866311801, 354674087]\n",
            "The efficient solution gives the result 840788060974748067\n",
            "The comparison solution gives the result 840788060974748067\n",
            "The solution is correct OK\n",
            "-------------------------------------------------\n"
          ]
        }
      ],
      "source": [
        "import random\n",
        "def efficientSolution(numbers):\n",
        "    largest = 0\n",
        "    secondLargest = 0\n",
        "    for i in numbers:\n",
        "        if i > largest:\n",
        "            secondLargest = largest\n",
        "            largest = i\n",
        "        elif i > secondLargest:\n",
        "            secondLargest = i\n",
        "\n",
        "    return secondLargest * largest\n",
        "\n",
        "def max_pairwise_product(numbers):\n",
        "    max_product = 0\n",
        "    n = len(numbers)\n",
        "\n",
        "    for first in range(n):\n",
        "        for second in range(n):\n",
        "            if first != second:\n",
        "                aux_product = numbers[first] * numbers[second]\n",
        "                if aux_product > max_product:\n",
        "                    max_product = aux_product\n",
        "\n",
        "    return max_product\n",
        "\n",
        "for _ in range(20):  # Run the test 10 times\n",
        "    n = random.randint(1, 12)  # Use a large n\n",
        "    numbers = [random.randint(1, 10**9) for _ in range(n)]  # Generate n random numbers between 1 and 10^9\n",
        "\n",
        "    print(\"-------------------------------------------------\")\n",
        "    print(f\"Testing with the list: {numbers}\")\n",
        "    print(f\"The efficient solution gives the result {efficientSolution(numbers)}\")\n",
        "    print(f\"The comparison solution gives the result {max_pairwise_product(numbers)}\")\n",
        "    if efficientSolution(numbers) == max_pairwise_product(numbers):\n",
        "        print(\"The solution is correct OK\")\n",
        "    else:\n",
        "        print(\"ERROR\")\n",
        "    print(\"-------------------------------------------------\")"
      ]
    },
    {
      "cell_type": "markdown",
      "metadata": {
        "id": "L8U4151JNbxk"
      },
      "source": [
        "Count executed instructions in code and verify with inputs 1,2 and 3\n"
      ]
    },
    {
      "cell_type": "code",
      "execution_count": 110,
      "metadata": {
        "id": "dh85RM8vNhFz",
        "colab": {
          "base_uri": "https://localhost:8080/"
        },
        "outputId": "732852a9-9184-4cbd-aa0f-5505152f09a0"
      },
      "outputs": [
        {
          "output_type": "stream",
          "name": "stdout",
          "text": [
            "Writing efficientSolutionexcec.py\n"
          ]
        }
      ],
      "source": [
        "%%writefile efficientSolutionexcec.py\n",
        "exceintspy= 0\n",
        "def efficientSolution(numbers):\n",
        "    global exceintspy\n",
        "    largest = 0\n",
        "    exceintspy+=1\n",
        "    secondLargest = 0\n",
        "    exceintspy+=1\n",
        "    exceintspy+=1\n",
        "    for i in numbers:\n",
        "        exceintspy+=2\n",
        "        exceintspy+=1\n",
        "        if i > largest:\n",
        "            secondLargest = largest\n",
        "            exceintspy+=1\n",
        "            largest = i\n",
        "            exceintspy+=1\n",
        "        elif i > secondLargest:\n",
        "            secondLargest = i\n",
        "            exceintspy+=1\n",
        "    exceintspy+=1\n",
        "    result= secondLargest * largest\n",
        "    exceintspy+=2 # multiplciation instruction\n",
        "    return result\n",
        "\n",
        "n = int(input())\n",
        "exceintspy+=1\n",
        "numbers = [int(i) for i in input().split()]\n",
        "exceintspy+=n\n",
        "print(efficientSolution(numbers))\n",
        "exceintspy+=1\n",
        "print(f\"Execution Times: {exceintspy}\")"
      ]
    },
    {
      "cell_type": "code",
      "source": [
        "%%writefile run_all_test.sh\n",
        "for i in {1..3}\n",
        "do\n",
        "    echo \"Input #$i\"\n",
        "    python3 efficientSolutionexcec.py < input$i.txt\n",
        "done"
      ],
      "metadata": {
        "colab": {
          "base_uri": "https://localhost:8080/"
        },
        "id": "FAF6vkpVvwJG",
        "outputId": "2991e2f2-43df-413d-fa10-5b0b02082f58"
      },
      "execution_count": 111,
      "outputs": [
        {
          "output_type": "stream",
          "name": "stdout",
          "text": [
            "Overwriting run_all_test.sh\n"
          ]
        }
      ]
    },
    {
      "cell_type": "code",
      "source": [
        "!chmod u+x run_all_test.sh\n",
        "!./run_all_test.sh"
      ],
      "metadata": {
        "colab": {
          "base_uri": "https://localhost:8080/"
        },
        "id": "9-UEzg3Vv3e_",
        "outputId": "c8cecc5e-6006-4587-f20b-340398eb4d46"
      },
      "execution_count": 113,
      "outputs": [
        {
          "output_type": "stream",
          "name": "stdout",
          "text": [
            "Input #1\n",
            "90\n",
            "Execution Times: 68\n",
            "Input #2\n",
            "90\n",
            "Execution Times: 51\n",
            "Input #3\n",
            "40000000000\n",
            "Execution Times: 40\n"
          ]
        }
      ]
    },
    {
      "cell_type": "markdown",
      "metadata": {
        "id": "K6ybgCmpNygr"
      },
      "source": [
        "Calculate estimated time by instruction and number of instructions by second"
      ]
    },
    {
      "cell_type": "code",
      "execution_count": 114,
      "metadata": {
        "id": "kwe3G1O3Nz1w",
        "colab": {
          "base_uri": "https://localhost:8080/"
        },
        "outputId": "9e738440-c3ef-42a5-b3dd-1c8f820b16ab"
      },
      "outputs": [
        {
          "output_type": "stream",
          "name": "stdout",
          "text": [
            "\n",
            "real\t0m0.197s\n",
            "user\t0m0.160s\n",
            "sys\t0m0.031s\n",
            "Execution Times: 1200008\n"
          ]
        }
      ],
      "source": [
        "!time python3 efficientSolutionexcec.py< input11.txt > ptest.txt\n",
        "!grep -xvFf output11.txt ptest.txt"
      ]
    },
    {
      "cell_type": "markdown",
      "source": [
        "### Estimate and verify the maximun n that can be solved in 1 second"
      ],
      "metadata": {
        "id": "v8GY6n_ZaJ4P"
      }
    },
    {
      "cell_type": "code",
      "source": [
        "%%writefile efficientSolution.py\n",
        "def efficientSolution(numbers):\n",
        "    largest = 0                     #1\n",
        "    secondLargest = 0               #1\n",
        "    for i in numbers:               #2+2n\n",
        "        if i > largest:\n",
        "            secondLargest = largest\n",
        "            largest = i\n",
        "        elif i > secondLargest:\n",
        "            secondLargest = i\n",
        "    #WORST CASE 3n\n",
        "    result= secondLargest * largest    #3\n",
        "    return result\n",
        "\n",
        "n = int(input())                            #1\n",
        "numbers = [int(i) for i in input().split()] #n\n",
        "print(efficientSolution(numbers))           #1"
      ],
      "metadata": {
        "id": "z3xjzg1YaKk6",
        "colab": {
          "base_uri": "https://localhost:8080/"
        },
        "outputId": "7bb30ccf-280e-4499-82ef-9d80e8553920"
      },
      "execution_count": 115,
      "outputs": [
        {
          "output_type": "stream",
          "name": "stdout",
          "text": [
            "Writing efficientSolution.py\n"
          ]
        }
      ]
    },
    {
      "cell_type": "markdown",
      "metadata": {
        "id": "sUpIWcykOGpT"
      },
      "source": [
        "## Super efficient solution\n",
        "\n",
        "Whitout storing the list in memory, only stpring the largest and second largest and whitout calling a function, add in each line a coment with the number of instructions that are executed in that line\n",
        "\n",
        "in C++ and Python\n",
        "\n",
        "\n",
        " $$T(n) < 13 n  = O(n)$$\n"
      ]
    },
    {
      "cell_type": "code",
      "execution_count": 116,
      "metadata": {
        "id": "hBLt_xBQLy8E",
        "colab": {
          "base_uri": "https://localhost:8080/"
        },
        "outputId": "2c97d3d7-879b-49e8-c795-5dcd6083baea"
      },
      "outputs": [
        {
          "output_type": "stream",
          "name": "stdout",
          "text": [
            "Writing max_pairwise_efficient.cpp\n"
          ]
        }
      ],
      "source": [
        "%%writefile max_pairwise_efficient.cpp\n",
        "\n",
        "#include\n",
        "#include\n",
        "\n",
        "long long max_pairwise_efficient() {\n",
        "    int n;            //1\n",
        "    std::cin >> n;    //1\n",
        "\n",
        "    long long biggest_1 = std::numeric_limits::min(); //1\n",
        "    long long biggest_2 = std::numeric_limits::min(); //1\n",
        "\n",
        "    for (int i = 0; i < n; ++i) {  //2 + 2n\n",
        "        int new_number;\n",
        "        std::cin >> new_number;\n",
        "        if (new_number > biggest_1) {\n",
        "            biggest_2 = biggest_1;\n",
        "            biggest_1 = new_number;\n",
        "        } else if (new_number > biggest_2) {\n",
        "            biggest_2 = new_number;\n",
        "        }\n",
        "    }\n",
        "\n",
        "    return biggest_1 * biggest_2; //1\n",
        "}\n",
        "\n",
        "int main() {\n",
        "    std::cout << max_pairwise_efficient() << std::endl; //1\n",
        "    return 0; //1\n",
        "}"
      ]
    },
    {
      "cell_type": "markdown",
      "metadata": {
        "id": "683gc3roHqzb"
      },
      "source": [
        "Test with inputs 1 and 2\n",
        "\n",
        "\n"
      ]
    },
    {
      "cell_type": "code",
      "execution_count": null,
      "metadata": {
        "id": "b7d4LA8OIc2_"
      },
      "outputs": [],
      "source": [
        "!g++ max_pairwise_efficient.cpp -o max_pairwise_efficient -std=c++11\n",
        "!./max_pairwise_efficient < input1.txt\n",
        "!./max_pairwise_efficient < input2.txt"
      ]
    },
    {
      "cell_type": "markdown",
      "metadata": {
        "id": "36Ugn1odIeJz"
      },
      "source": [
        "Test and time it with input 3"
      ]
    },
    {
      "cell_type": "code",
      "execution_count": null,
      "metadata": {
        "id": "jDyMbCnxHqSN"
      },
      "outputs": [],
      "source": [
        "!g++ max_pairwise_efficient.cpp -o max_pairwise_efficient -std=c++11\n",
        "!./max_pairwise_efficient < input1.txt\n",
        "!./max_pairwise_efficient < input2.txt"
      ]
    },
    {
      "cell_type": "markdown",
      "metadata": {
        "id": "bhqiKQG6fjKM"
      },
      "source": [
        "20 stress tests"
      ]
    },
    {
      "cell_type": "code",
      "execution_count": 120,
      "metadata": {
        "id": "2KsiXKhALzwm",
        "colab": {
          "base_uri": "https://localhost:8080/"
        },
        "outputId": "e1164ca3-1501-4a6f-caf5-5862a8721bac"
      },
      "outputs": [
        {
          "output_type": "stream",
          "name": "stdout",
          "text": [
            "Writing stressTestmax_pairwise_efficient.cpp\n"
          ]
        }
      ],
      "source": [
        "%%writefile stressTestmax_pairwise_efficient.cpp\n",
        "#include\n",
        "#include\n",
        "#include\n",
        "#include\n",
        "long long max_pairwise_efficient(const std::vector& numbers) {\n",
        "    int n = numbers.size(); //1\n",
        "\n",
        "    long long biggest_1 = std::numeric_limits::min(); //1\n",
        "    long long biggest_2 = std::numeric_limits::min(); //1\n",
        "\n",
        "    for (int i = 0; i < n; ++i) { //2+2n\n",
        "        int new_number = numbers[i];\n",
        "        if (new_number > biggest_1) {\n",
        "            biggest_2 = biggest_1;\n",
        "            biggest_1 = new_number;\n",
        "        } else if (new_number > biggest_2) { //2+2n\n",
        "            biggest_2 = new_number;\n",
        "        }\n",
        "    }\n",
        "\n",
        "    return biggest_1 * biggest_2;//1\n",
        "}\n",
        "\n",
        "int main() {\n",
        "    // 20 stress tests\n",
        "    for (int test = 1; test <= 20; ++test) { //2+2n\n",
        "        int n = rand() % 11 + 2;  // Use a large n\n",
        "        std::vector numbers(n);\n",
        "\n",
        "        // Generate n random numbers between 1 and 10^9\n",
        "        for (int i = 0; i < n; ++i) {        //2+2n\n",
        "            numbers[i] = rand() % 1000000000 + 1;\n",
        "        }\n",
        "\n",
        "        std::cout << \"-------------------------------------------------\" << std::endl; //1\n",
        "        std::cout << \"Testing with the list: \"; //1\n",
        "        for (int i = 0; i < n; ++i) {           //1\n",
        "            std::cout << numbers[i] << \" \";     //1\n",
        "        }\n",
        "        std::cout << std::endl;//1\n",
        "\n",
        "        std::cout << \"The efficient solution gives the result: \" << max_pairwise_efficient(numbers) << std::endl; //1\n",
        "\n",
        "        // Add any additional test or comparison here if needed\n",
        "\n",
        "        std::cout << \"-------------------------------------------------\" << std::endl; //1\n",
        "    }\n",
        "\n",
        "    return 0;\n",
        "}"
      ]
    },
    {
      "cell_type": "markdown",
      "metadata": {
        "id": "fEXj8GHJH5p1"
      },
      "source": [
        "Count executed instructions in code and verify with inputs 1,2 and 3"
      ]
    },
    {
      "cell_type": "code",
      "execution_count": 122,
      "metadata": {
        "id": "LF1DHjKXIAsF",
        "colab": {
          "base_uri": "https://localhost:8080/"
        },
        "outputId": "facdc723-4351-4a05-c55c-7778252185ea"
      },
      "outputs": [
        {
          "output_type": "stream",
          "name": "stdout",
          "text": [
            "Writing max_pairwise_efficient2.cpp\n"
          ]
        }
      ],
      "source": [
        "%%writefile max_pairwise_efficient2.cpp\n",
        "#include\n",
        "#include\n",
        "#include\n",
        "\n",
        "int execints = 0;\n",
        "\n",
        "long long max_pairwise_efficient(const std::vector& numbers) {\n",
        "    int n = numbers.size(); //1\n",
        "    long long biggest_1 = std::numeric_limits::min(); //1\n",
        "    long long biggest_2 = std::numeric_limits::min(); //1\n",
        "    execints += 3;\n",
        "\n",
        "    for (int i = 0; i < n; ++i) { //2+2n\n",
        "        int new_number = numbers[i];\n",
        "        long long temp = biggest_1;\n",
        "        if (new_number > biggest_1) {\n",
        "            execints += 2;  // Contar la comparación y la actualización\n",
        "            biggest_2 = biggest_1;\n",
        "            biggest_1 = new_number;\n",
        "        }\n",
        "        if (temp > biggest_2) {\n",
        "            execints += 2;  // Contar la comparación y la actualización\n",
        "            biggest_2 = temp;\n",
        "        }\n",
        "        execints += 2;  // Contar las dos comparaciones\n",
        "    }\n",
        "    execints += 2;  // Contar el aumento final y el retorno\n",
        "\n",
        "    return execints;\n",
        "\n",
        "}\n",
        "\n",
        "int main() {\n",
        "    int n; //1\n",
        "    std::cin >> n; //1\n",
        "    std::vector numbers(n); //1\n",
        "    for (int i = 0; i < n; ++i) { //2+2n\n",
        "        std::cin >> numbers[i];\n",
        "    }\n",
        "    long long result = max_pairwise_efficient(numbers); //1\n",
        "    std::cout << \"El numero de instrucciones es: \" << execints << \"\\n\"; //1\n",
        "    return 0;\n",
        "}"
      ]
    },
    {
      "cell_type": "code",
      "source": [
        "%%writefile run_all_test.sh\n",
        "#!/bin/bash\n",
        "g++ max_pairwise_efficient2.cpp -o max_pairwise_efficient2\n",
        "for i in {1..3}\n",
        "do\n",
        "    echo \"Input #$i\"\n",
        "    ./max_pairwise_efficient2< input$i.txt\n",
        "done"
      ],
      "metadata": {
        "colab": {
          "base_uri": "https://localhost:8080/"
        },
        "id": "s8wH9PS6wlM4",
        "outputId": "3de37b5f-432e-4e1e-fee1-44914a2bc008"
      },
      "execution_count": 123,
      "outputs": [
        {
          "output_type": "stream",
          "name": "stdout",
          "text": [
            "Overwriting run_all_test.sh\n"
          ]
        }
      ]
    },
    {
      "cell_type": "markdown",
      "metadata": {
        "id": "yae7sSm2IG9U"
      },
      "source": [
        "Calculate estimated time by instruction and number of instructions by second"
      ]
    },
    {
      "cell_type": "code",
      "execution_count": 125,
      "metadata": {
        "id": "suouY7BYL2dz",
        "colab": {
          "base_uri": "https://localhost:8080/"
        },
        "outputId": "5b3262ed-ad49-4b89-b2a9-8d7cc0228fe3"
      },
      "outputs": [
        {
          "output_type": "execute_result",
          "data": {
            "text/plain": [
              "2.5624887891115476e-07"
            ]
          },
          "metadata": {},
          "execution_count": 125
        }
      ],
      "source": [
        "time_per_instruction = 0.41/1600007\n",
        "time_per_instruction"
      ]
    },
    {
      "cell_type": "markdown",
      "metadata": {
        "id": "sy33CNNfPxcE"
      },
      "source": [
        "### Super efficient solution in Python\n",
        "\n",
        "Whitout storing the list in memory and whitout calling a function, add in each line a coment with the number of intstrcution that are executed in that line"
      ]
    },
    {
      "cell_type": "code",
      "execution_count": 126,
      "metadata": {
        "id": "_mOjJwKrPxcJ",
        "colab": {
          "base_uri": "https://localhost:8080/"
        },
        "outputId": "aede65d8-471b-471b-904c-159b15e110cf"
      },
      "outputs": [
        {
          "output_type": "stream",
          "name": "stdout",
          "text": [
            "Writing max_efficient.py\n"
          ]
        }
      ],
      "source": [
        "%%writefile max_efficient.py\n",
        "\n",
        "def max_pairwise_efficient():\n",
        "    n = int(input())\n",
        "    values = input().split()\n",
        "    biggest_1 = float('-inf')\n",
        "    biggest_2 = float('-inf')\n",
        "\n",
        "    for new in map(int, values):\n",
        "        temp = biggest_1\n",
        "        if new > biggest_1:\n",
        "            biggest_2 = biggest_1\n",
        "            biggest_1 = new\n",
        "        if temp > biggest_2:\n",
        "            biggest_2 = temp\n",
        "\n",
        "    return biggest_1 * biggest_2\n",
        "\n",
        "if __name__ == '__main__':\n",
        "    print(max_pairwise_efficient())"
      ]
    },
    {
      "cell_type": "code",
      "source": [
        "!python3 max_efficient.py"
      ],
      "metadata": {
        "colab": {
          "base_uri": "https://localhost:8080/"
        },
        "id": "_GsQHQ8nxB1j",
        "outputId": "143d18ab-1010-4aeb-b6d8-73897b3209eb"
      },
      "execution_count": 127,
      "outputs": [
        {
          "output_type": "stream",
          "name": "stdout",
          "text": [
            "\n",
            "^C\n"
          ]
        }
      ]
    },
    {
      "cell_type": "markdown",
      "metadata": {
        "id": "K08Eow0hPxcJ"
      },
      "source": [
        "Test with inputs 1 and 2\n",
        "\n",
        "\n"
      ]
    },
    {
      "cell_type": "code",
      "execution_count": 128,
      "metadata": {
        "id": "1_mUee2cPxcJ",
        "colab": {
          "base_uri": "https://localhost:8080/"
        },
        "outputId": "cf0dd269-8fe1-48a1-b632-98b06928c525"
      },
      "outputs": [
        {
          "output_type": "stream",
          "name": "stdout",
          "text": [
            "Writing max_efficient2.py\n"
          ]
        }
      ],
      "source": [
        "%%writefile max_efficient2.py\n",
        "\n",
        "def max_pairwise_efficient():\n",
        "    n = int(input())\n",
        "    values = input().split()\n",
        "    biggest_1 = float('-inf')\n",
        "    biggest_2 = float('-inf')\n",
        "\n",
        "    for new in map(int, values):\n",
        "        temp = biggest_1\n",
        "        if new > biggest_1:\n",
        "            biggest_2 = biggest_1\n",
        "            biggest_1 = new\n",
        "        elif temp > biggest_2:\n",
        "            biggest_2 = temp\n",
        "\n",
        "    return biggest_1 * biggest_2\n",
        "\n",
        "if __name__ == '__main__':\n",
        "    print(max_pairwise_efficient())"
      ]
    },
    {
      "cell_type": "code",
      "source": [
        "%%writefile run_all_test2.sh\n",
        "#comparing all the executions to check the differences between the outputs\n",
        "for i in {1..2}\n",
        "do\n",
        "    python3 max_efficient2.py < input\n",
        "i.txt\n",
        "done"
      ],
      "metadata": {
        "colab": {
          "base_uri": "https://localhost:8080/"
        },
        "id": "CpSDOb8-xQlf",
        "outputId": "480af17d-d3b6-4389-e0f3-d0de94bfcc42"
      },
      "execution_count": 129,
      "outputs": [
        {
          "output_type": "stream",
          "name": "stdout",
          "text": [
            "Writing run_all_test2.sh\n"
          ]
        }
      ]
    },
    {
      "cell_type": "markdown",
      "metadata": {
        "id": "CE5DB3CmPxcJ"
      },
      "source": [
        "Test and time it with input 3"
      ]
    },
    {
      "cell_type": "code",
      "execution_count": 131,
      "metadata": {
        "id": "lyLhFOoePxcJ",
        "colab": {
          "base_uri": "https://localhost:8080/"
        },
        "outputId": "1d7a8342-f004-4ee4-8cba-b569857eeac9"
      },
      "outputs": [
        {
          "output_type": "stream",
          "name": "stdout",
          "text": [
            "\n",
            "real\t0m0.055s\n",
            "user\t0m0.033s\n",
            "sys\t0m0.016s\n"
          ]
        }
      ],
      "source": [
        "!time python3 max_efficient2.py < input3.txt > pythonOutput3.txt"
      ]
    },
    {
      "cell_type": "markdown",
      "metadata": {
        "id": "HZEI236lPxcK"
      },
      "source": [
        "20 stress tests"
      ]
    },
    {
      "cell_type": "code",
      "execution_count": 132,
      "metadata": {
        "id": "_LoV-p4zPxcK",
        "colab": {
          "base_uri": "https://localhost:8080/"
        },
        "outputId": "1a45f740-2683-43b0-f4ca-2e70784dd6ae"
      },
      "outputs": [
        {
          "output_type": "stream",
          "name": "stdout",
          "text": [
            "-------------------------------------------------\n",
            "Testing with the list: [898741678, 84446772, 530730055, 737513979, 748732205, 840125025, 359934386, 158577273, 671355829, 443608985, 425978511, 836378496]\n",
            "The efficient solution gives the result 807736603774255684\n",
            "-------------------------------------------------\n",
            "-------------------------------------------------\n",
            "Testing with the list: [506749290, 619520670, 693792555, 929336365, 345179614]\n",
            "The efficient solution gives the result 863666079311413225\n",
            "-------------------------------------------------\n",
            "-------------------------------------------------\n",
            "Testing with the list: [398917111, 138452529, 591249253, 232135820, 893852279, 393909350]\n",
            "The efficient solution gives the result 798971896673493841\n",
            "-------------------------------------------------\n",
            "-------------------------------------------------\n",
            "Testing with the list: [339253803, 136868837, 174014708, 992760376, 492224596, 948855991]\n",
            "The efficient solution gives the result 985573164155661376\n",
            "-------------------------------------------------\n",
            "-------------------------------------------------\n",
            "Testing with the list: [675737057, 388934136, 939451649, 382695004, 237575416, 763259448, 453687765]\n",
            "The efficient solution gives the result 882569400808819201\n",
            "-------------------------------------------------\n",
            "-------------------------------------------------\n",
            "Testing with the list: [308186912, 668087138, 740446350, 993804856]\n",
            "The efficient solution gives the result 735859178237475600\n",
            "-------------------------------------------------\n",
            "-------------------------------------------------\n",
            "Testing with the list: [988896340, 188241580, 367157141, 847940895, 44302067, 359965806, 893555565, 146631761, 232388217]\n",
            "The efficient solution gives the result 977915971265395600\n",
            "-------------------------------------------------\n",
            "-------------------------------------------------\n",
            "Testing with the list: [800709453, 982362042]\n",
            "The efficient solution gives the result 786586573297783026\n",
            "-------------------------------------------------\n",
            "-------------------------------------------------\n",
            "Testing with the list: [248750015, 738638306]\n",
            "The efficient solution gives the result 183736289697074590\n",
            "-------------------------------------------------\n",
            "-------------------------------------------------\n",
            "Testing with the list: [516999330, 442779479, 51766012, 569374028, 611686188, 265915919, 535082591, 885085451, 560912381, 613181981, 51089104]\n",
            "The efficient solution gives the result 783376255571873401\n",
            "-------------------------------------------------\n",
            "-------------------------------------------------\n",
            "Testing with the list: [886671809, 469529267]\n",
            "The efficient solution gives the result 786186896875332481\n",
            "-------------------------------------------------\n",
            "-------------------------------------------------\n",
            "Testing with the list: [608564209, 992364196, 691605043, 274478830, 820160441, 516858982, 285010669, 957199156, 918907385, 396933922]\n",
            "The efficient solution gives the result 984786697502726416\n",
            "-------------------------------------------------\n",
            "-------------------------------------------------\n",
            "Testing with the list: [102400605, 912617027, 957262862, 101590852, 856318541]\n",
            "The efficient solution gives the result 916352186964431044\n",
            "-------------------------------------------------\n",
            "-------------------------------------------------\n",
            "Testing with the list: [904937262, 873119610, 931907965, 567049322, 470801639, 487989453]\n",
            "The efficient solution gives the result 868452455230441225\n",
            "-------------------------------------------------\n",
            "-------------------------------------------------\n",
            "Testing with the list: [681652473, 294646583, 975693807, 155059780, 754427683, 869767515, 901183972, 527920012, 565639419]\n",
            "The efficient solution gives the result 951978405018153249\n",
            "-------------------------------------------------\n",
            "-------------------------------------------------\n",
            "Testing with the list: [820914584, 360334221, 761159220, 992150173, 981491845, 160590072, 7163628, 46667777, 233816437, 689523268, 902174152]\n",
            "The efficient solution gives the result 984361965783929929\n",
            "-------------------------------------------------\n",
            "-------------------------------------------------\n",
            "Testing with the list: [270367751, 878881157, 820597, 958040777, 92049756, 951960562, 852039570, 58520674, 134358305, 568434249, 445635299, 624194137]\n",
            "The efficient solution gives the result 917842130394763729\n",
            "-------------------------------------------------\n",
            "-------------------------------------------------\n",
            "Testing with the list: [820892503, 357498925, 326642974, 444108580, 909617934, 632295948, 453736047, 36435445, 396923467, 609470099]\n",
            "The efficient solution gives the result 827404785854428356\n",
            "-------------------------------------------------\n",
            "-------------------------------------------------\n",
            "Testing with the list: [37699898, 831909674, 277348445, 681274004, 186742273, 248501016, 113675955]\n",
            "The efficient solution gives the result 692073705694786276\n",
            "-------------------------------------------------\n",
            "-------------------------------------------------\n",
            "Testing with the list: [447792492, 4983592, 845519387, 683407622]\n",
            "The efficient solution gives the result 714903033792855769\n",
            "-------------------------------------------------\n"
          ]
        }
      ],
      "source": [
        "#%%writefile stressTestmax_pairwise_efficient.cpp\n",
        "import random\n",
        "\n",
        "def max_pairwise_efficient(numbers):\n",
        "    n = len(numbers)\n",
        "    biggest_1 = float('-inf')\n",
        "    biggest_2 = float('-inf')\n",
        "\n",
        "    for i in range(n):\n",
        "        new = numbers[i]\n",
        "        temp = biggest_1\n",
        "        if new > biggest_1:\n",
        "          biggest_2 = biggest_1\n",
        "          biggest_1 = new\n",
        "        if temp > biggest_2: biggest_2 = temp\n",
        "\n",
        "    return biggest_1 * biggest_2\n",
        "\n",
        "# 20 stress tests\n",
        "for _ in range(20):\n",
        "    n = random.randint(2, 12)  # Use a large n\n",
        "    numbers = [random.randint(1, 10**9) for _ in range(n)]  # Generate n random numbers between 1 and 10^9\n",
        "\n",
        "    print(\"-------------------------------------------------\")\n",
        "    print(f\"Testing with the list: {numbers}\")\n",
        "    print(f\"The efficient solution gives the result {max_pairwise_efficient(numbers)}\")\n",
        "    # Add any additional test or comparison here if needed\n",
        "    print(\"-------------------------------------------------\")"
      ]
    },
    {
      "cell_type": "markdown",
      "metadata": {
        "id": "IRVdP3iuPxcK"
      },
      "source": [
        "Count executed instructions in code and verify with inputs 1,2 and 3"
      ]
    },
    {
      "cell_type": "code",
      "execution_count": 133,
      "metadata": {
        "id": "RghJOg78PxcK",
        "colab": {
          "base_uri": "https://localhost:8080/"
        },
        "outputId": "51bc837e-a9d8-4fa9-fb39-4b53b2c0c757"
      },
      "outputs": [
        {
          "output_type": "stream",
          "name": "stdout",
          "text": [
            "Overwriting max_pairwise_efficient.py\n"
          ]
        }
      ],
      "source": [
        "%%writefile max_pairwise_efficient.py\n",
        "import random\n",
        "execints = 0\n",
        "\n",
        "def max_pairwise_efficient(numbers):\n",
        "    global execints\n",
        "    n = len(numbers)\n",
        "    biggest_1 = float('-inf')\n",
        "    biggest_2 = float('-inf')\n",
        "    execints += 3\n",
        "\n",
        "    for i in range(n):\n",
        "        new_number = numbers[i]\n",
        "        temp = biggest_1\n",
        "        execints += 2\n",
        "        if new_number > biggest_1:\n",
        "            biggest_2 = biggest_1\n",
        "            biggest_1 = new_number\n",
        "            execints += 2\n",
        "        if temp > biggest_2:\n",
        "            biggest_2 = temp\n",
        "            execints += 2\n",
        "        execints += 2\n",
        "\n",
        "    execints += 1\n",
        "    return biggest_1 * biggest_2\n",
        "\n",
        "if __name__ == '__main__':\n",
        "    n = int(input())\n",
        "    input_line = input()\n",
        "    numbers = list(map(int, input_line.split()))  # Divide la cadena en números y convierte cada uno a entero\n",
        "    max_pairwise_efficient(numbers)\n",
        "    execints += 1\n",
        "\n",
        "    print(\"El numero de instrucciones es:\", execints)"
      ]
    },
    {
      "cell_type": "code",
      "source": [
        "%%writefile run_all_test.sh\n",
        "for i in {1..3}\n",
        "do\n",
        "    echo \"Input #$i\"\n",
        "    python3 max_pairwise_efficient.py < input$i.txt\n",
        "done"
      ],
      "metadata": {
        "colab": {
          "base_uri": "https://localhost:8080/"
        },
        "id": "lz6m61xhxh4t",
        "outputId": "f0b93748-f649-44b7-de2d-4d335899547e"
      },
      "execution_count": 134,
      "outputs": [
        {
          "output_type": "stream",
          "name": "stdout",
          "text": [
            "Overwriting run_all_test.sh\n"
          ]
        }
      ]
    },
    {
      "cell_type": "code",
      "source": [
        "!chmod u+x run_all_test.sh\n",
        "!./run_all_test.sh"
      ],
      "metadata": {
        "colab": {
          "base_uri": "https://localhost:8080/"
        },
        "id": "DOpL60-MxkJg",
        "outputId": "d0439359-8ea4-408e-fd98-4e2ad269976a"
      },
      "execution_count": 135,
      "outputs": [
        {
          "output_type": "stream",
          "name": "stdout",
          "text": [
            "Input #1\n",
            "El numero de instrucciones es: 65\n",
            "Input #2\n",
            "El numero de instrucciones es: 49\n",
            "Input #3\n",
            "El numero de instrucciones es: 37\n"
          ]
        }
      ]
    },
    {
      "cell_type": "markdown",
      "metadata": {
        "id": "R6qeUjPaPxcK"
      },
      "source": [
        "Calculate estimated time by instruction and number of instructions by second"
      ]
    },
    {
      "cell_type": "code",
      "execution_count": 136,
      "metadata": {
        "id": "iLdXYvn3PxcK",
        "colab": {
          "base_uri": "https://localhost:8080/"
        },
        "outputId": "0d90bdb2-a59e-4c13-c5de-ed832b16c22b"
      },
      "outputs": [
        {
          "output_type": "stream",
          "name": "stdout",
          "text": [
            "\n",
            "real\t0m0.170s\n",
            "user\t0m0.143s\n",
            "sys\t0m0.023s\n",
            "El numero de instrucciones es: 1200005\n",
            "7272757.575757575 tiempo por instrucción\n"
          ]
        }
      ],
      "source": [
        "!time python3 max_pairwise_efficient.py < input11.txt > pythonOutputSort11.txt\n",
        "!python3 max_pairwise_efficient.py < input11.txt\n",
        "num_inst_per_seg = 1200005/0.165\n",
        "print(f\"{num_inst_per_seg} tiempo por instrucción\")"
      ]
    },
    {
      "cell_type": "markdown",
      "source": [
        "### Estimate and verify the maximun n that can be solved in 1 second"
      ],
      "metadata": {
        "id": "uZGdjUwuaO4v"
      }
    },
    {
      "cell_type": "code",
      "source": [
        "import time\n",
        "import random\n",
        "n = 0 #numero de instrucciones\n",
        "\n",
        "def instruction(numbers):\n",
        "    m = len(numbers)\n",
        "    biggest_1 = float('-inf')\n",
        "    biggest_2 = float('-inf')\n",
        "    global n\n",
        "    n += 3\n",
        "\n",
        "    for i in range(m):\n",
        "        new = numbers[i]\n",
        "        temp = biggest_1\n",
        "        n += 2\n",
        "        if new > biggest_1:\n",
        "            biggest_2 = biggest_1\n",
        "            biggest_1 = new\n",
        "            n += 2\n",
        "        if temp > biggest_2:\n",
        "            biggest_2 = temp\n",
        "            n += 1\n",
        "        n += 2\n",
        "    return n\n",
        "# Ejecutar la función y medir el tiempo de ejecución\n",
        "start_time = time.time()\n",
        "numbers = [random.randint(1, 100) for _ in range(10)]\n",
        "instruction = instruction(numbers) # Suponiendo que 'numbers' es una lista válida\n",
        "end_time = time.time()\n",
        "\n",
        "# Calcular el número de instrucciones por segundo\n",
        "elapsed_time = end_time - start_time\n",
        "instructions_per_second = instruction / elapsed_time\n",
        "#print(start_time)\n",
        "#print(end_time)\n",
        "print(f\"Número de instrucciones por segundo: {instructions_per_second}\")"
      ],
      "metadata": {
        "id": "FjqFevOaaOVz",
        "colab": {
          "base_uri": "https://localhost:8080/"
        },
        "outputId": "444637a0-14e3-4353-a8a8-aaba0e374e62"
      },
      "execution_count": 137,
      "outputs": [
        {
          "output_type": "stream",
          "name": "stdout",
          "text": [
            "Número de instrucciones por segundo: 247746.45388601036\n"
          ]
        }
      ]
    },
    {
      "cell_type": "markdown",
      "source": [
        "## Perform 100 randomized automated tests in C++ and Python with a porgram  compares the answers,for the same 100 random input instances, of the super efficient solution $(T(n) < 10 n = O(n))$ against the sorting solution  $(T(n)  = O(n \\lg{n}))$,  if the answers are not the same stops and displays \"Error\" listing  the input and the two answers; if the 100 tests are completed without stoping displays \"Pass\"."
      ],
      "metadata": {
        "id": "4hHRQMXzW6oR"
      }
    },
    {
      "cell_type": "markdown",
      "source": [
        "En C++"
      ],
      "metadata": {
        "id": "b4lrVMK9x-Zw"
      }
    },
    {
      "cell_type": "code",
      "source": [
        "%%writefile stressTest.cpp\n",
        "\n",
        "#include\n",
        "#include\n",
        "#include\n",
        "#include\n",
        "\n",
        "long long max_pairwise_efficient(const std::vector& numbers) { //stressTestC_efficien\n",
        "    int n = numbers.size(); //1\n",
        "\n",
        "    long long biggest_1 = std::numeric_limits::min(); //1\n",
        "    long long biggest_2 = std::numeric_limits::min(); //1\n",
        "\n",
        "    for (int i = 0; i < n; ++i) { //2+2n\n",
        "        int new_number = numbers[i];\n",
        "        if (new_number > biggest_1) {\n",
        "            biggest_2 = biggest_1;\n",
        "            biggest_1 = new_number;\n",
        "        } else if (new_number > biggest_2) { //2+2n\n",
        "            biggest_2 = new_number;\n",
        "        }\n",
        "    }\n",
        "\n",
        "    return biggest_1 * biggest_2;//1\n",
        "}\n",
        "\n",
        "long long max_pairwise_product_sort(std::vector& numbers) { //stressTestC_sort\n",
        "    std::sort(numbers.rbegin(), numbers.rend());\n",
        "    return static_cast(numbers[0]) * numbers[1];\n",
        "}\n",
        "\n",
        "int main() {\n",
        "    std::random_device rd;\n",
        "    std::mt19937 gen(rd());\n",
        "\n",
        "    for (int i = 0; i < 100; ++i) {\n",
        "        int n = std::uniform_int_distribution(2, 12)(gen);  // Use a large n\n",
        "        std::vector numbers(n);\n",
        "        for (int j = 0; j < n; ++j) {\n",
        "            numbers[j] = std::uniform_int_distribution(1, 1e9)(gen);  // Generate n random numbers between 1 and 10^9\n",
        "        }\n",
        "\n",
        "        std::cout << \"-------------------------------------------------\\n\";\n",
        "        std::cout << \"Testing with the list: \";\n",
        "        for (int num : numbers) {\n",
        "            std::cout << num << \" \";\n",
        "        }\n",
        "        std::cout << \"\\n\";\n",
        "\n",
        "        long long efficient_result = max_pairwise_efficient(numbers);\n",
        "        long long comparison_result = max_pairwise_product_sort(numbers);  // Replace with your comparison function result\n",
        "\n",
        "        std::cout << \"The efficient solution gives the result \" << efficient_result << \"\\n\";\n",
        "        std::cout << \"The comparison solution gives the result \" << comparison_result << \"\\n\";\n",
        "\n",
        "        if (efficient_result == comparison_result) {\n",
        "            std::cout << \"The solution is correct OK\\n\";\n",
        "        } else {\n",
        "            std::cout << \"ERROR\\n\";\n",
        "        }\n",
        "\n",
        "        std::cout << \"-------------------------------------------------\\n\";\n",
        "    }\n",
        "\n",
        "    return 0;\n",
        "}"
      ],
      "metadata": {
        "colab": {
          "base_uri": "https://localhost:8080/"
        },
        "id": "Nyv_WOUOxvYo",
        "outputId": "b303d69b-61b0-4ddb-93d0-f68345e9cfe7"
      },
      "execution_count": 142,
      "outputs": [
        {
          "output_type": "stream",
          "name": "stdout",
          "text": [
            "Overwriting stressTest.cpp\n"
          ]
        }
      ]
    },
    {
      "cell_type": "code",
      "source": [
        "!g++ stressTest.cpp -o stressTest -std=c++11\n",
        "!./stressTest"
      ],
      "metadata": {
        "id": "shrJVP6GyDPB"
      },
      "execution_count": null,
      "outputs": []
    },
    {
      "cell_type": "markdown",
      "source": [
        "En Python"
      ],
      "metadata": {
        "id": "8Q_6D1V8yWDX"
      }
    },
    {
      "cell_type": "code",
      "source": [
        "import random\n",
        "def max_pairwise_product_sort(numbers):\n",
        "  numbers.sort(reverse=True)\n",
        "  return numbers[0] * numbers[1]\n",
        "\n",
        "def max_pairwise_product(numbers):\n",
        "    n = len(numbers)\n",
        "    max_product = 0\n",
        "\n",
        "    for first in range(n):\n",
        "        for second in range(n):\n",
        "            if first != second:\n",
        "                aux_product = numbers[first] * numbers[second]\n",
        "\n",
        "                if aux_product > max_product:\n",
        "                  max_product = aux_product\n",
        "\n",
        "    return max_product\n",
        "\n",
        "\n",
        "for _ in range(20):  # Run the test 20 times\n",
        "    n = random.randint(2, 12)  # Use a large n\n",
        "    numbers = [random.randint(1, 10**9) for _ in range(n)]  # Generate n random numbers between 1 and 10^9\n",
        "\n",
        "    print(\"-------------------------------------------------\")\n",
        "    print(f\"Testing with the list: {numbers}\")\n",
        "    print(f\"The efficient solution gives the result {max_pairwise_product_sort(numbers)}\")\n",
        "    print(f\"The comparison solution gives the result {max_pairwise_product(numbers)}\")\n",
        "    if max_pairwise_product_sort(numbers) == max_pairwise_product(numbers):\n",
        "        print(\"The solution is correct OK\")\n",
        "    else:\n",
        "        print(\"ERROR\")\n",
        "    print(\"-------------------------------------------------\")"
      ],
      "metadata": {
        "colab": {
          "base_uri": "https://localhost:8080/"
        },
        "id": "ULk-GWMgyXbm",
        "outputId": "13327317-2885-4490-bb06-72422bc42eac"
      },
      "execution_count": 144,
      "outputs": [
        {
          "output_type": "stream",
          "name": "stdout",
          "text": [
            "-------------------------------------------------\n",
            "Testing with the list: [64246945, 303434022, 974138899, 926218559, 965242054, 382574958, 296837720, 438847676, 19195187]\n",
            "The efficient solution gives the result 940279831752058546\n",
            "The comparison solution gives the result 940279831752058546\n",
            "The solution is correct OK\n",
            "-------------------------------------------------\n",
            "-------------------------------------------------\n",
            "Testing with the list: [890414049, 195546781, 150652359, 255388921, 258942359, 34743760, 925755610]\n",
            "The efficient solution gives the result 824305801084564890\n",
            "The comparison solution gives the result 824305801084564890\n",
            "The solution is correct OK\n",
            "-------------------------------------------------\n",
            "-------------------------------------------------\n",
            "Testing with the list: [863475202, 411416262, 458837172]\n",
            "The efficient solution gives the result 396194519777808744\n",
            "The comparison solution gives the result 396194519777808744\n",
            "The solution is correct OK\n",
            "-------------------------------------------------\n",
            "-------------------------------------------------\n",
            "Testing with the list: [49955016, 774190462, 69153920, 545288830, 478189561, 44458940]\n",
            "The efficient solution gives the result 422157411221139460\n",
            "The comparison solution gives the result 422157411221139460\n",
            "The solution is correct OK\n",
            "-------------------------------------------------\n",
            "-------------------------------------------------\n",
            "Testing with the list: [146460860, 104554316, 293507976, 330981338, 668726560, 191789915, 642635569, 383651451, 629412153, 201377185]\n",
            "The efficient solution gives the result 429747473391012640\n",
            "The comparison solution gives the result 429747473391012640\n",
            "The solution is correct OK\n",
            "-------------------------------------------------\n",
            "-------------------------------------------------\n",
            "Testing with the list: [392032628, 809204921, 602371972, 696970712, 817222354, 928265008, 465213167, 56514832]\n",
            "The efficient solution gives the result 758598914973588832\n",
            "The comparison solution gives the result 758598914973588832\n",
            "The solution is correct OK\n",
            "-------------------------------------------------\n",
            "-------------------------------------------------\n",
            "Testing with the list: [99288729, 984138772, 711748614, 759639141, 70478690, 973463978, 851767521, 278670694, 585833129]\n",
            "The efficient solution gives the result 958023643895155016\n",
            "The comparison solution gives the result 958023643895155016\n",
            "The solution is correct OK\n",
            "-------------------------------------------------\n",
            "-------------------------------------------------\n",
            "Testing with the list: [323257711, 378301809, 782790246]\n",
            "The efficient solution gives the result 296130966129355014\n",
            "The comparison solution gives the result 296130966129355014\n",
            "The solution is correct OK\n",
            "-------------------------------------------------\n",
            "-------------------------------------------------\n",
            "Testing with the list: [781110604, 316345486, 475925208]\n",
            "The efficient solution gives the result 371750226679705632\n",
            "The comparison solution gives the result 371750226679705632\n",
            "The solution is correct OK\n",
            "-------------------------------------------------\n",
            "-------------------------------------------------\n",
            "Testing with the list: [954494779, 975350599, 77488675, 304912028, 631669335, 553145594, 151884637]\n",
            "The efficient solution gives the result 930967054440022621\n",
            "The comparison solution gives the result 930967054440022621\n",
            "The solution is correct OK\n",
            "-------------------------------------------------\n",
            "-------------------------------------------------\n",
            "Testing with the list: [59355371, 786326426, 691086515, 471955544, 153894636, 371115352, 881667338, 118775205, 56284312, 844418515]\n",
            "The efficient solution gives the result 744496224277963070\n",
            "The comparison solution gives the result 744496224277963070\n",
            "The solution is correct OK\n",
            "-------------------------------------------------\n",
            "-------------------------------------------------\n",
            "Testing with the list: [968994152, 578331399, 125504014]\n",
            "The efficient solution gives the result 560399743548978648\n",
            "The comparison solution gives the result 560399743548978648\n",
            "The solution is correct OK\n",
            "-------------------------------------------------\n",
            "-------------------------------------------------\n",
            "Testing with the list: [479932777, 661058702, 655673867, 575343043, 294995479, 806555843, 264680851, 506018676]\n",
            "The efficient solution gives the result 533180758664095786\n",
            "The comparison solution gives the result 533180758664095786\n",
            "The solution is correct OK\n",
            "-------------------------------------------------\n",
            "-------------------------------------------------\n",
            "Testing with the list: [73080533, 16949537, 326770058, 327596673, 16693047, 620473430]\n",
            "The efficient solution gives the result 203265031352898390\n",
            "The comparison solution gives the result 203265031352898390\n",
            "The solution is correct OK\n",
            "-------------------------------------------------\n",
            "-------------------------------------------------\n",
            "Testing with the list: [288343629, 470715440, 500799553, 580477455]\n",
            "The efficient solution gives the result 290702849990577615\n",
            "The comparison solution gives the result 290702849990577615\n",
            "The solution is correct OK\n",
            "-------------------------------------------------\n",
            "-------------------------------------------------\n",
            "Testing with the list: [186741641, 967703053, 859166333, 628717577]\n",
            "The efficient solution gives the result 831417883478914649\n",
            "The comparison solution gives the result 831417883478914649\n",
            "The solution is correct OK\n",
            "-------------------------------------------------\n",
            "-------------------------------------------------\n",
            "Testing with the list: [135815457, 298510775, 968724022, 809192098, 407176171, 127871904, 881741814, 117312835, 410093115, 279325546, 506459897, 226578946]\n",
            "The efficient solution gives the result 854164476423655908\n",
            "The comparison solution gives the result 854164476423655908\n",
            "The solution is correct OK\n",
            "-------------------------------------------------\n",
            "-------------------------------------------------\n",
            "Testing with the list: [512810495, 823917469, 483323416, 848396128, 42711313, 875396165, 313045167, 657593556, 741818778, 453463386, 895656739, 407750015]\n",
            "The efficient solution gives the result 784054474477005935\n",
            "The comparison solution gives the result 784054474477005935\n",
            "The solution is correct OK\n",
            "-------------------------------------------------\n",
            "-------------------------------------------------\n",
            "Testing with the list: [594299519, 796901108, 829789372, 513352345, 730121942, 795988906, 739023237, 285035757, 585749127]\n",
            "The efficient solution gives the result 661260069953424176\n",
            "The comparison solution gives the result 661260069953424176\n",
            "The solution is correct OK\n",
            "-------------------------------------------------\n",
            "-------------------------------------------------\n",
            "Testing with the list: [793854399, 105325354, 840182441, 601901051, 104444134, 777601877, 924493760, 908489347]\n",
            "The efficient solution gives the result 839892732327974720\n",
            "The comparison solution gives the result 839892732327974720\n",
            "The solution is correct OK\n",
            "-------------------------------------------------\n"
          ]
        }
      ]
    }
  ],
  "metadata": {
    "colab": {
      "provenance": []
    },
    "kernelspec": {
      "display_name": "Python 3",
      "name": "python3"
    },
    "language_info": {
      "name": "python"
    }
  },
  "nbformat": 4,
  "nbformat_minor": 0
}